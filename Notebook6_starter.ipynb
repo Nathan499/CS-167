{
  "nbformat": 4,
  "nbformat_minor": 0,
  "metadata": {
    "colab": {
      "provenance": [],
      "include_colab_link": true
    },
    "kernelspec": {
      "name": "python3",
      "display_name": "Python 3"
    },
    "language_info": {
      "name": "python"
    },
    "accelerator": "GPU",
    "gpuClass": "standard"
  },
  "cells": [
    {
      "cell_type": "markdown",
      "metadata": {
        "id": "view-in-github",
        "colab_type": "text"
      },
      "source": [
        "<a href=\"https://colab.research.google.com/github/Nathan499/CS-167/blob/main/Notebook6_starter.ipynb\" target=\"_parent\"><img src=\"https://colab.research.google.com/assets/colab-badge.svg\" alt=\"Open In Colab\"/></a>"
      ]
    },
    {
      "cell_type": "markdown",
      "metadata": {
        "id": "XHNyMbAY0QB5"
      },
      "source": [
        "# Notebook \\# 6\n",
        "Name: Nathan Larsen\n",
        "Date: 4/23/23\n",
        "\n",
        "## Problem Description: This is where I am going to talk about the Convoluational neural network is going to learn to recognize pneumonia from chest x-ray images.\n",
        "\n",
        "\n",
        "\n",
        "### Hints/ Tips Tricks\n",
        "- Don't forget to enable GPUs under 'Edit', 'Notebook Settings', 'Accerlate Hardware', 'GPU'.\n",
        "- Make sure you unzip the data and put it in your Drive.\n"
      ]
    },
    {
      "cell_type": "code",
      "source": [
        "%tensorflow_version 2.x\n",
        "import tensorflow as tf\n",
        "device_name = tf.test.gpu_device_name()\n",
        "if device_name != '/device:GPU:0':\n",
        "  raise SystemError('GPU device not found')\n",
        "print('Found GPU at: {}'.format(device_name))"
      ],
      "metadata": {
        "id": "wPe1cQHNmNal",
        "outputId": "d12ca52b-76de-47f1-b954-adc7415e2da4",
        "colab": {
          "base_uri": "https://localhost:8080/"
        }
      },
      "execution_count": 1,
      "outputs": [
        {
          "output_type": "stream",
          "name": "stdout",
          "text": [
            "Colab only includes TensorFlow 2.x; %tensorflow_version has no effect.\n",
            "Found GPU at: /device:GPU:0\n"
          ]
        }
      ]
    },
    {
      "cell_type": "code",
      "metadata": {
        "id": "9TyLjTVU0MQr",
        "outputId": "296c5f00-a3ad-4900-e178-d59ba1adfb8b",
        "colab": {
          "base_uri": "https://localhost:8080/"
        }
      },
      "source": [
        "import keras\n",
        "import tensorflow \n",
        "import sys\n",
        "from matplotlib import pyplot\n",
        "from keras.utils import to_categorical\n",
        "from keras.models import Sequential\n",
        "from keras.layers import Conv2D\n",
        "from keras.layers import MaxPooling2D\n",
        "from keras.layers import Dense\n",
        "from keras.layers import Flatten\n",
        "from keras.optimizers import SGD\n",
        "from keras.preprocessing.image import ImageDataGenerator\n",
        "import sys\n",
        "\n",
        "## Connect to Drive\n",
        "from google.colab import drive\n",
        "import pandas\n",
        "drive.mount('/content/drive')\n",
        "\n",
        "## Image dimensions\n",
        "img_width = 200\n",
        "img_height = 200\n",
        "\n",
        "## Directories for testing and training data\n",
        "train_data_dir = '/content/drive/MyDrive/CS 167/chest_xray/train' \n",
        "test_data_dir = '/content/drive/MyDrive/CS 167/chest_xray/test'\n",
        "\n",
        "## To feed the training images to the neural network in batches of 32 images at a time\n",
        "batch_size = 32\n",
        "\n",
        "## Rescale pixel values from [0, 255] to between 0 and 1\n",
        "datagen = ImageDataGenerator(rescale=1.0/255.0)\n",
        "\n",
        "## Look for training and testing data and figure out the class of each example based on subfolder\n",
        "train_data = datagen.flow_from_directory(\n",
        "        train_data_dir,\n",
        "        target_size=(img_width, img_height),\n",
        "        batch_size=batch_size,\n",
        "        class_mode='binary')\n",
        "\n",
        "test_data = datagen.flow_from_directory(\n",
        "        test_data_dir,\n",
        "        target_size=(img_width, img_height),\n",
        "        batch_size=batch_size,\n",
        "        class_mode='binary')"
      ],
      "execution_count": 4,
      "outputs": [
        {
          "output_type": "stream",
          "name": "stdout",
          "text": [
            "Drive already mounted at /content/drive; to attempt to forcibly remount, call drive.mount(\"/content/drive\", force_remount=True).\n",
            "Found 5216 images belonging to 2 classes.\n",
            "Found 624 images belonging to 2 classes.\n"
          ]
        }
      ]
    },
    {
      "cell_type": "code",
      "metadata": {
        "id": "t_i-Cfa41ZvU",
        "outputId": "6551901f-2dc9-44e9-f443-ab5e4f576bc6",
        "colab": {
          "base_uri": "https://localhost:8080/",
          "height": 819
        }
      },
      "source": [
        "from keras.optimizers.optimizer import learning_rate_schedule\n",
        "# Build your CNN here\n",
        "model2 = Sequential()\n",
        "model2.add(Conv2D(32, (3, 3), activation = 'relu', input_shape=(img_width, img_height, 3)))\n",
        "model2.add(MaxPooling2D(pool_size=(2, 2)))\n",
        "\n",
        "model2.add(Conv2D(32, (3, 3),activation = 'relu'))\n",
        "model2.add(MaxPooling2D(pool_size=(2, 2)))\n",
        "\n",
        "model2.add(Flatten())\n",
        "model2.add(Dense(32,activation = 'relu'))\n",
        "model2.add(Dense(1,activation='sigmoid'))\n",
        "\n",
        "# need to compile the model before you can use it\n",
        "opt = SGD(lr=0.001, momentum=0.9)\n",
        "model2.compile(optimizer=opt, loss='binary_crossentropy', metrics=['accuracy'])\n",
        "\n",
        "training_results2 = model2.fit(\n",
        "        train_data, #training set\n",
        "        steps_per_epoch = len(train_data), \n",
        "        epochs=10, #number of epochs \n",
        "        validation_data = test_data, #testing set\n",
        "        validation_steps = len(test_data)\n",
        "        )\n",
        "\n",
        "import matplotlib.pyplot as plt\n",
        "%matplotlib inline\n",
        "plt.plot(training_results2.history['accuracy'])\n",
        "plt.plot(training_results2.history['val_accuracy'])\n",
        "plt.title('model accuracy')\n",
        "plt.ylabel('accuracy')\n",
        "plt.xlabel('epoch')\n",
        "plt.legend(['train', 'test'], loc='upper left')\n",
        "plt.show()\n",
        "\n",
        "#This started to overfit after epoch 1 when test was trending down and training was improving"
      ],
      "execution_count": 8,
      "outputs": [
        {
          "output_type": "stream",
          "name": "stdout",
          "text": [
            "Epoch 1/10\n",
            "163/163 [==============================] - 61s 371ms/step - loss: 0.4191 - accuracy: 0.8104 - val_loss: 0.3682 - val_accuracy: 0.8189\n",
            "Epoch 2/10\n",
            "163/163 [==============================] - 16s 97ms/step - loss: 0.2064 - accuracy: 0.9139 - val_loss: 0.3472 - val_accuracy: 0.8429\n",
            "Epoch 3/10\n",
            "163/163 [==============================] - 16s 98ms/step - loss: 0.1869 - accuracy: 0.9247 - val_loss: 0.6676 - val_accuracy: 0.7580\n",
            "Epoch 4/10\n",
            "163/163 [==============================] - 17s 106ms/step - loss: 0.1456 - accuracy: 0.9417 - val_loss: 0.7459 - val_accuracy: 0.7612\n",
            "Epoch 5/10\n",
            "163/163 [==============================] - 16s 97ms/step - loss: 0.1428 - accuracy: 0.9463 - val_loss: 0.4564 - val_accuracy: 0.8093\n",
            "Epoch 6/10\n",
            "163/163 [==============================] - 16s 99ms/step - loss: 0.1356 - accuracy: 0.9456 - val_loss: 1.0567 - val_accuracy: 0.7115\n",
            "Epoch 7/10\n",
            "163/163 [==============================] - 16s 98ms/step - loss: 0.1315 - accuracy: 0.9480 - val_loss: 0.7368 - val_accuracy: 0.7644\n",
            "Epoch 8/10\n",
            "163/163 [==============================] - 16s 96ms/step - loss: 0.1157 - accuracy: 0.9571 - val_loss: 0.6365 - val_accuracy: 0.7917\n",
            "Epoch 9/10\n",
            "163/163 [==============================] - 16s 100ms/step - loss: 0.1128 - accuracy: 0.9571 - val_loss: 0.8942 - val_accuracy: 0.7452\n",
            "Epoch 10/10\n",
            "163/163 [==============================] - 16s 99ms/step - loss: 0.1170 - accuracy: 0.9563 - val_loss: 0.6989 - val_accuracy: 0.7676\n"
          ]
        },
        {
          "output_type": "display_data",
          "data": {
            "text/plain": [
              "<Figure size 640x480 with 1 Axes>"
            ],
            "image/png": "[encoded data removed]"
          },
          "metadata": {}
        }
      ]
    },
    {
      "cell_type": "code",
      "source": [
        "#This is going to be the tune CNN\n"
      ],
      "metadata": {
        "id": "DUMc1dxStB0L"
      },
      "execution_count": null,
      "outputs": []
    }
  ]
}