{
  "cells": [
    {
      "cell_type": "markdown",
      "metadata": {
        "id": "view-in-github",
        "colab_type": "text"
      },
      "source": [
        "<a href=\"https://colab.research.google.com/github/Nathan499/CS-167/blob/main/Day19_Artificial_Neural_Networks_Code.ipynb\" target=\"_parent\"><img src=\"https://colab.research.google.com/assets/colab-badge.svg\" alt=\"Open In Colab\"/></a>"
      ]
    },
    {
      "cell_type": "markdown",
      "metadata": {
        "id": "ao9TkdPgNfP4"
      },
      "source": [
        "# CS167: Day\n",
        "## Aritificial Neural Networks (Code)\n",
        "\n",
        "#### CS167: Machine Learning, Spring 2023\n",
        "\n",
        "Thursday, April 6th, 2023\n",
        "\n",
        "📆 [Course Schedule](https://docs.google.com/spreadsheets/d/e/2PACX-1vSvFV5Mz0_YZE1d5r3gQ8IMktE4cBAsJIlP30cl2GhEpSO0J-YWV62QokSDz-OcOCsEmxMuKpY0kVlR/pubhtml?gid=0&single=true) | 🙋[PollEverywhere](https://pollev.com/meredithmoore011) | 📜 [Syllabus](https://analytics.drake.edu/~moore/cs167_s23_syllabus.html) | 📬 [CodePost Login](https://codepost.io/login)"
      ]
    },
    {
      "cell_type": "markdown",
      "metadata": {
        "id": "Ch_Y-xYvNfP8"
      },
      "source": [
        "# Admin Stuff"
      ]
    },
    {
      "cell_type": "markdown",
      "metadata": {
        "id": "VjV44nyTNfP8"
      },
      "source": [
        "You should be working on:\n",
        "- Quiz #2--now due Thursday, April 6th by 11:59pm.\n",
        "- [Notebook #5](https://classroom.github.com/a/fwi3w_xb) due Thursday April 6th, by 11:59pm."
      ]
    },
    {
      "cell_type": "markdown",
      "metadata": {
        "id": "Ob27bf2MNfP9"
      },
      "source": [
        "## Load your data:"
      ]
    },
    {
      "cell_type": "code",
      "execution_count": null,
      "metadata": {
        "id": "r3GYp5FPNfP9"
      },
      "outputs": [],
      "source": [
        "from google.colab import drive\n",
        "drive.mount('/content/drive')"
      ]
    },
    {
      "cell_type": "code",
      "execution_count": null,
      "metadata": {
        "id": "RJdw8lqVNfP-"
      },
      "outputs": [],
      "source": [
        "import pandas\n",
        "path = 'datasets/irisData.csv' #'/content/drive/MyDrive/CS167/datasets/irisData.csv'\n",
        "data = pandas.read_csv(path)"
      ]
    },
    {
      "cell_type": "markdown",
      "metadata": {
        "id": "R33GJUF4NfP_"
      },
      "source": [
        "## Quick Review:"
      ]
    },
    {
      "cell_type": "markdown",
      "metadata": {
        "id": "KLdjQpVlNfP_"
      },
      "source": [
        "# Deep Learning\n",
        "\n",
        "Up until this point, every model that we've talked about (knn, decision trees, random forests, support vector machines, principal component analysis, etc) are often referred to as _traditional_ machine learning modles. \n",
        "\n",
        "__Deep Learning__: is a subset of machine learning that relies primarily on neural networks, and most of what is considered AI today is accomplished with deep learning. Examples:\n",
        "- recognizing objects\n",
        "- speech transaltion\n",
        "- generating art and music\n",
        "- recommendation algorithms\n",
        "- and many many more"
      ]
    },
    {
      "cell_type": "markdown",
      "metadata": {
        "id": "g6-eGnGxNfQA"
      },
      "source": [
        "## Multilayer Perceptrons\n",
        "\n",
        "Neural networks come in many varieties:\n",
        "- __Convolutional Neural Networks (CNNs)__ are particularly good at computer-vision tasks such as the one we just talked about\n",
        "- __Recurrent Neural Networks (RNNS)__ are great at working with time-series data--speech recognition, natural language processing, etc.\n",
        "- __Generative Adversarial Networks (GANs)__ are great at generating new things--art, music, etc. \n",
        "\n",
        "The first step in understading these awesome neural networks is understanding the simplest neural network, a __multilayer perceptron__."
      ]
    },
    {
      "cell_type": "markdown",
      "metadata": {
        "id": "eHz4WVYHNfQA"
      },
      "source": [
        "# A Simple Neural Network:\n",
        "\n",
        "A __multilayer perceptron__ is the simplest type of neural network. It consists of perceptrons (aka nodes, neurons) arranged in layers. \n",
        "\n",
        "State of the art neural networks often contain >100 layers, hence, the term __deep learning__.\n",
        "\n",
        "<div>\n",
        "<img src=\"https://github.com/merriekay/S23-CS167-Notes/blob/main/images/day18_mlp1.png?raw=1\" width=500/>\n",
        "</div>\n",
        "\n",
        "[image source](https://github.com/jeffprosise/Applied-Machine-Learning/blob/main/Chapter%208/Multilayer%20Perceptron.ipynb)"
      ]
    },
    {
      "cell_type": "markdown",
      "metadata": {
        "id": "MpnQwA0tNfQB"
      },
      "source": [
        "## 🚨🚨Terminology Alert 🚨🚨\n",
        "- the __depth__ of the network is the number of layers\n",
        "- the __width__ of the network is the number of neurons in each layer, which can be different for every layer.\n",
        "- the first layer is the __input layer__\n",
        "- the last layer is the __output layer__\n",
        "- all the layers in between are called the __hidden layers__\n",
        "\n",
        "<div>\n",
        "<img src=\"https://github.com/merriekay/S23-CS167-Notes/blob/main/images/day18_mlp1.png?raw=1\" width=500/>\n",
        "</div>"
      ]
    },
    {
      "cell_type": "markdown",
      "metadata": {
        "id": "R_DJKyy3NfQB"
      },
      "source": [
        "## Final output node: \n",
        "\n",
        "| **Activation Function**   | **Function**                                       | **Lower bound** | **Upper bound** | **Type of Machine Learning**               |\n",
        "|---------------------------|----------------------------------------------------|-----------------|-----------------|--------------------------------------------|\n",
        "| Linear                    | $f(z) = az$                                        | $-\\infty$       | $\\infty$        | regression where results can be negative   |\n",
        "| Rectified Linear Unit     | $relu(z) = max(0,z)$                               | 0               | $\\infty$        | regression where results can't be negative |\n",
        "| Hyperbolic Tangent (tanh) | $tanh(z) = \\frac{e^x - e^{-x}}{e^x + e^{-x}}$      | -1              | 1               | binary classification                      |\n",
        "| Sigmoid                   | $sigmoid(z) = \\frac{1}{1 + e^{-z}}$                | 0               | 1               | binary classification                      |\n",
        "| Softmax                   | $softmax(z_i) = \\frac{exp(z_i)}{\\sum_{j} exp(z_j)}$ | 0               | 1               | multiclass classification                  |"
      ]
    },
    {
      "cell_type": "markdown",
      "metadata": {
        "id": "wuzRe3e-NfQC"
      },
      "source": [
        "## 🙋 PollEverywhere "
      ]
    },
    {
      "cell_type": "markdown",
      "metadata": {
        "id": "scrTK-2bNfQC"
      },
      "source": [
        "<div>\n",
        "<img src=\"https://github.com/merriekay/S23-CS167-Notes/blob/main/images/day19_ann_iris.png?raw=1\" width=800/>\n",
        "</div>\n",
        "\n",
        "Questions:\n",
        "- what kind of machine learning is happening here? classification or regression? If classification, what kind?\n",
        "- What is the width of each of the hidden layers? h1, h2, h3\n",
        "- What is the depth of this neural network? (how many hidden layers are there?)\n",
        "- How many nodes are in the input layer? Why?\n",
        "- How many nodes are in the output layer? Why?\n",
        "- What should the activation function be for the output layer? Why?\n",
        "- What should the activation function be for the rest of the layers? Why?\n",
        "- How do you know what species of iris is predicted from this model? "
      ]
    },
    {
      "cell_type": "markdown",
      "metadata": {
        "id": "emmTgh32NfQC"
      },
      "source": [
        "<div>\n",
        "<img src=\"https://github.com/merriekay/S23-CS167-Notes/blob/main/images/day19_ann_titanic.png?raw=1\" width=800/>\n",
        "</div>\n",
        "\n",
        "Questions:\n",
        "- What kind of machine learning is going on here? classification or regression? How do we know?\n",
        "- How many nodes are in the input layer? Why?\n",
        "- How many nodes are in the output layer? Why?\n",
        "- What should the activation function be for the output layer? Why?\n",
        "- What should the activation function be for the rest of the layers? Why?"
      ]
    },
    {
      "cell_type": "markdown",
      "metadata": {
        "id": "fYcEhVS1NfQD"
      },
      "source": [
        "<div>\n",
        "<img src=\"https://github.com/merriekay/S23-CS167-Notes/blob/main/images/day19_ann_vehicles.png?raw=1\" width=800/>\n",
        "</div>\n",
        "\n",
        "Questions:\n",
        "- What kind of machine learning is going on here? classification or regression? How do we know?\n",
        "- How many nodes are in the input layer? Why?\n",
        "- How many nodes are in the output layer? Why?\n",
        "- What should the activation function be for the output layer? Why?\n",
        "- What should the activation function be for the rest of the layers? Why?"
      ]
    },
    {
      "cell_type": "markdown",
      "metadata": {
        "id": "cTDmy30bNfQD"
      },
      "source": [
        "# ✨ New Material"
      ]
    },
    {
      "cell_type": "markdown",
      "metadata": {
        "id": "yPJJRWZWNfQD"
      },
      "source": [
        "| **Hyperparameter**         | **Typical Value**                                             |\n",
        "|:----------------------------|:---------------------------------------------------------------|\n",
        "| # input neurons            | one per input feature                                         |\n",
        "| # hidden layers            | dpends on the complexity of the problem, but generally 1-5    |\n",
        "| # neurons per hiddne layer | depends on the proble, ,but typically 10-100                  |\n",
        "| # output neurons           | 1 per prediction dimension                                    |\n",
        "| hidden activation          | generally ReLU                                                |\n",
        "| output activation          | depends on the type of problem, see activation function table |\n",
        "| loss function              | MSE                                                           |\n",
        "\n",
        "[ch 10: Hands on ML with sklearn, Keras and Tensorflow](https://www.oreilly.com/library/view/hands-on-machine-learning/9781491962282/)"
      ]
    },
    {
      "cell_type": "markdown",
      "metadata": {
        "id": "tXWoXNFSNfQD"
      },
      "source": [
        "## 🚨🚨Terminology Alert 🚨🚨\n",
        "The process of computing the outputs of training examples is called __forward propagation__ (aka the forward step).\n",
        "\n",
        "The process of refining the weights of a neural network over the course of many epochs is called __backpropagation__.\n",
        "\n",
        "__feedforward neural network__: A neural network where information only flows from input to output--there are no loops or parts that flow backwards (this is not always the case)\n",
        "\n",
        "__fully connected neural network__: (aka __dense network__)  a neural network where all of the nodes in one layer are connected to all of the nodes in both the previous and next layer (this is not always the case)."
      ]
    },
    {
      "cell_type": "markdown",
      "metadata": {
        "id": "LDwRewFPNfQE"
      },
      "source": [
        "# How are Neural Networks Trained?\n",
        "\n",
        "__Weights__ $(w_0, w_1, ... w_n)$\n",
        "- trainable parameters\n",
        "- learned from the training data\n",
        "\n",
        "The goal is to __minimize the error__ predicted by the model. "
      ]
    },
    {
      "cell_type": "markdown",
      "metadata": {
        "id": "flYVA-V2NfQE"
      },
      "source": [
        "After given an initial set of weights, how can we update the weights in the 'right direction'?\n",
        "- take the _derivative_ of the error function and use the derivative in the update rule to update the set of weights in the next epoch."
      ]
    },
    {
      "cell_type": "markdown",
      "metadata": {
        "id": "UEY2cm_kNfQE"
      },
      "source": [
        "Recall: \n",
        "- Perceptron training rule:\n",
        "\n",
        "<div>\n",
        "<img src=\"https://github.com/merriekay/S23-CS167-Notes/blob/main/images/day16_updaterule.png?raw=1\" width=400/>\n",
        "</div>\n",
        "\n",
        "For multilayer peceptrons, our update rule becomes:\n",
        "$$w \\leftarrow w - \\eta \\frac{\\partial E}{\\partial w}$$\n",
        "\n",
        "Where $\\eta$ is the learning rate, $E$ is the Error function, and $w$ is the weights."
      ]
    },
    {
      "cell_type": "markdown",
      "metadata": {
        "id": "w5l2RhUeNfQE"
      },
      "source": [
        "# Backpropagation:\n",
        "\n",
        "__backpropagation__ tunes the weights over a neural network using __gradient descent__ to iteratively reduce the error in the network.\n",
        "\n",
        "![backprop gif](https://thumbs.gfycat.com/BitesizedWeeBlacklemur-max-1mb.gif)\n",
        "\n",
        "[image source](https://gfycat.com/gifs/search/backpropagation)"
      ]
    },
    {
      "cell_type": "markdown",
      "metadata": {
        "id": "W6DksHdENfQE"
      },
      "source": [
        "![backprop gif2](https://miro.medium.com/proxy/1*mTTmfdMcFlPtyu8__vRHOQ.gif)\n",
        "\n",
        "[image source](https://www.kdnuggets.com/2019/10/introduction-artificial-neural-networks.html)"
      ]
    },
    {
      "cell_type": "markdown",
      "metadata": {
        "id": "FbSx2s4XNfQE"
      },
      "source": [
        "## Overfitting\n",
        "\n",
        "Neural networks, like many machine learning models, are suceptible to __overfitting__.\n",
        "\n",
        "How can we recognize overfitting?\n",
        "\n",
        "Given the graph below, at what point do you think our model started overfitting?\n",
        "\n",
        "<div>\n",
        "<img src=\"https://github.com/merriekay/S23-CS167-Notes/blob/main/images/day18_overfit.png?raw=1\" width=800/>\n",
        "</div>\n"
      ]
    },
    {
      "cell_type": "markdown",
      "metadata": {
        "id": "iMCweF_KNfQF"
      },
      "source": [
        "## Overfitting\n",
        "\n",
        "__overfitting__ happens when the _training set error_ continues to improve, but the _validation (testing) set error_ starts to worsen (increase). \n",
        "\n",
        "So... how do we know when to stop training our model to avoid overfitting?"
      ]
    },
    {
      "cell_type": "markdown",
      "metadata": {
        "id": "PxYD8HWSNfQF"
      },
      "source": [
        "## Overfitting\n",
        "\n",
        "<div>\n",
        "<img src=\"https://github.com/merriekay/S23-CS167-Notes/blob/main/images/day18_overfit2.png?raw=1\" width=800/>\n",
        "</div>\n"
      ]
    },
    {
      "cell_type": "markdown",
      "metadata": {
        "id": "JnegGRohNfQF"
      },
      "source": [
        "# Neural Network Summary\n",
        "\n",
        "Neural Networks are effective in __finding non-linear patterns__ in the training data.\n",
        "- can be applied to __regression__ or __classification__.\n",
        "- __backpropagation__ tunes the weights over a neural network using __gradient descent__ to iteratively reduce the error in the network. \n",
        "- __Overfitting__ the training data is common and is important to avoid.\n",
        "- The following parameters shoudl be tuned when using neural networks:\n",
        "    - number of epochs\n",
        "    - structure of the network (depth, width)\n",
        "    - activation function\n",
        "    - eta (learning rate)\n"
      ]
    },
    {
      "cell_type": "markdown",
      "metadata": {
        "id": "-G2TF270NfQF"
      },
      "source": [
        "## MLP Code\n",
        "\n",
        "Last thing we'll use from `sklearn`. "
      ]
    },
    {
      "cell_type": "code",
      "execution_count": 5,
      "metadata": {
        "id": "bVN7H2M4NfQF",
        "outputId": "cb58d5b4-7c5e-4c1c-e393-ecfa4198657d",
        "colab": {
          "base_uri": "https://localhost:8080/"
        }
      },
      "outputs": [
        {
          "output_type": "stream",
          "name": "stdout",
          "text": [
            "Mounted at /content/drive\n"
          ]
        }
      ],
      "source": [
        "from google.colab import drive\n",
        "import pandas\n",
        "drive.mount('/content/drive')"
      ]
    },
    {
      "cell_type": "code",
      "execution_count": 2,
      "metadata": {
        "id": "eQIzUG3HNfQG",
        "outputId": "9bed45f1-0ea7-4a24-a081-57986f47ad3f",
        "colab": {
          "base_uri": "https://localhost:8080/",
          "height": 206
        }
      },
      "outputs": [
        {
          "output_type": "execute_result",
          "data": {
            "text/plain": [
              "   sepal length  sepal width  petal length  petal width      species\n",
              "0           5.1          3.5           1.4          0.2  Iris-setosa\n",
              "1           4.9          3.0           1.4          0.2  Iris-setosa\n",
              "2           4.7          3.2           1.3          0.2  Iris-setosa\n",
              "3           4.6          3.1           1.5          0.2  Iris-setosa\n",
              "4           5.0          3.6           1.4          0.2  Iris-setosa"
            ],
            "text/html": [
              "\n",
              "  <div id=\"df-ea3b5a8d-e0e8-4c3f-becc-b3482c9d80e3\">\n",
              "    <div class=\"colab-df-container\">\n",
              "      <div>\n",
              "<style scoped>\n",
              "    .dataframe tbody tr th:only-of-type {\n",
              "        vertical-align: middle;\n",
              "    }\n",
              "\n",
              "    .dataframe tbody tr th {\n",
              "        vertical-align: top;\n",
              "    }\n",
              "\n",
              "    .dataframe thead th {\n",
              "        text-align: right;\n",
              "    }\n",
              "</style>\n",
              "<table border=\"1\" class=\"dataframe\">\n",
              "  <thead>\n",
              "    <tr style=\"text-align: right;\">\n",
              "      <th></th>\n",
              "      <th>sepal length</th>\n",
              "      <th>sepal width</th>\n",
              "      <th>petal length</th>\n",
              "      <th>petal width</th>\n",
              "      <th>species</th>\n",
              "    </tr>\n",
              "  </thead>\n",
              "  <tbody>\n",
              "    <tr>\n",
              "      <th>0</th>\n",
              "      <td>5.1</td>\n",
              "      <td>3.5</td>\n",
              "      <td>1.4</td>\n",
              "      <td>0.2</td>\n",
              "      <td>Iris-setosa</td>\n",
              "    </tr>\n",
              "    <tr>\n",
              "      <th>1</th>\n",
              "      <td>4.9</td>\n",
              "      <td>3.0</td>\n",
              "      <td>1.4</td>\n",
              "      <td>0.2</td>\n",
              "      <td>Iris-setosa</td>\n",
              "    </tr>\n",
              "    <tr>\n",
              "      <th>2</th>\n",
              "      <td>4.7</td>\n",
              "      <td>3.2</td>\n",
              "      <td>1.3</td>\n",
              "      <td>0.2</td>\n",
              "      <td>Iris-setosa</td>\n",
              "    </tr>\n",
              "    <tr>\n",
              "      <th>3</th>\n",
              "      <td>4.6</td>\n",
              "      <td>3.1</td>\n",
              "      <td>1.5</td>\n",
              "      <td>0.2</td>\n",
              "      <td>Iris-setosa</td>\n",
              "    </tr>\n",
              "    <tr>\n",
              "      <th>4</th>\n",
              "      <td>5.0</td>\n",
              "      <td>3.6</td>\n",
              "      <td>1.4</td>\n",
              "      <td>0.2</td>\n",
              "      <td>Iris-setosa</td>\n",
              "    </tr>\n",
              "  </tbody>\n",
              "</table>\n",
              "</div>\n",
              "      <button class=\"colab-df-convert\" onclick=\"convertToInteractive('df-ea3b5a8d-e0e8-4c3f-becc-b3482c9d80e3')\"\n",
              "              title=\"Convert this dataframe to an interactive table.\"\n",
              "              style=\"display:none;\">\n",
              "        \n",
              "  <svg xmlns=\"http://www.w3.org/2000/svg\" height=\"24px\"viewBox=\"0 0 24 24\"\n",
              "       width=\"24px\">\n",
              "    <path d=\"M0 0h24v24H0V0z\" fill=\"none\"/>\n",
              "    <path d=\"M18.56 5.44l.94 2.06.94-2.06 2.06-.94-2.06-.94-.94-2.06-.94 2.06-2.06.94zm-11 1L8.5 8.5l.94-2.06 2.06-.94-2.06-.94L8.5 2.5l-.94 2.06-2.06.94zm10 10l.94 2.06.94-2.06 2.06-.94-2.06-.94-.94-2.06-.94 2.06-2.06.94z\"/><path d=\"M17.41 7.96l-1.37-1.37c-.4-.4-.92-.59-1.43-.59-.52 0-1.04.2-1.43.59L10.3 9.45l-7.72 7.72c-.78.78-.78 2.05 0 2.83L4 21.41c.39.39.9.59 1.41.59.51 0 1.02-.2 1.41-.59l7.78-7.78 2.81-2.81c.8-.78.8-2.07 0-2.86zM5.41 20L4 18.59l7.72-7.72 1.47 1.35L5.41 20z\"/>\n",
              "  </svg>\n",
              "      </button>\n",
              "      \n",
              "  <style>\n",
              "    .colab-df-container {\n",
              "      display:flex;\n",
              "      flex-wrap:wrap;\n",
              "      gap: 12px;\n",
              "    }\n",
              "\n",
              "    .colab-df-convert {\n",
              "      background-color: #E8F0FE;\n",
              "      border: none;\n",
              "      border-radius: 50%;\n",
              "      cursor: pointer;\n",
              "      display: none;\n",
              "      fill: #1967D2;\n",
              "      height: 32px;\n",
              "      padding: 0 0 0 0;\n",
              "      width: 32px;\n",
              "    }\n",
              "\n",
              "    .colab-df-convert:hover {\n",
              "      background-color: #E2EBFA;\n",
              "      box-shadow: 0px 1px 2px rgba(60, 64, 67, 0.3), 0px 1px 3px 1px rgba(60, 64, 67, 0.15);\n",
              "      fill: #174EA6;\n",
              "    }\n",
              "\n",
              "    [theme=dark] .colab-df-convert {\n",
              "      background-color: #3B4455;\n",
              "      fill: #D2E3FC;\n",
              "    }\n",
              "\n",
              "    [theme=dark] .colab-df-convert:hover {\n",
              "      background-color: #434B5C;\n",
              "      box-shadow: 0px 1px 3px 1px rgba(0, 0, 0, 0.15);\n",
              "      filter: drop-shadow(0px 1px 2px rgba(0, 0, 0, 0.3));\n",
              "      fill: #FFFFFF;\n",
              "    }\n",
              "  </style>\n",
              "\n",
              "      <script>\n",
              "        const buttonEl =\n",
              "          document.querySelector('#df-ea3b5a8d-e0e8-4c3f-becc-b3482c9d80e3 button.colab-df-convert');\n",
              "        buttonEl.style.display =\n",
              "          google.colab.kernel.accessAllowed ? 'block' : 'none';\n",
              "\n",
              "        async function convertToInteractive(key) {\n",
              "          const element = document.querySelector('#df-ea3b5a8d-e0e8-4c3f-becc-b3482c9d80e3');\n",
              "          const dataTable =\n",
              "            await google.colab.kernel.invokeFunction('convertToInteractive',\n",
              "                                                     [key], {});\n",
              "          if (!dataTable) return;\n",
              "\n",
              "          const docLinkHtml = 'Like what you see? Visit the ' +\n",
              "            '<a target=\"_blank\" href=https://colab.research.google.com/notebooks/data_table.ipynb>data table notebook</a>'\n",
              "            + ' to learn more about interactive tables.';\n",
              "          element.innerHTML = '';\n",
              "          dataTable['output_type'] = 'display_data';\n",
              "          await google.colab.output.renderOutput(dataTable, element);\n",
              "          const docLink = document.createElement('div');\n",
              "          docLink.innerHTML = docLinkHtml;\n",
              "          element.appendChild(docLink);\n",
              "        }\n",
              "      </script>\n",
              "    </div>\n",
              "  </div>\n",
              "  "
            ]
          },
          "metadata": {},
          "execution_count": 2
        }
      ],
      "source": [
        "import pandas\n",
        "path = '/content/drive/MyDrive/CS 167/irisData.csv' #'/content/drive/MyDrive/CS167/datasets/irisData.csv'\n",
        "data = pandas.read_csv(path)\n",
        "data.head()"
      ]
    },
    {
      "cell_type": "code",
      "execution_count": 3,
      "metadata": {
        "id": "BeACKPZuNfQG"
      },
      "outputs": [],
      "source": [
        "import pandas\n",
        "import numpy\n",
        "from sklearn.model_selection import train_test_split\n",
        "\n",
        "#Split the dataset\n",
        "predictors = data.columns.drop('species')\n",
        "target = \"species\"\n",
        "train_data, test_data, train_sln, test_sln = train_test_split(data[predictors], data[target], test_size = 0.2, random_state=41)\n",
        "\n",
        "#Normalize Data\n",
        "from sklearn.preprocessing import StandardScaler\n",
        "scaler = StandardScaler()\n",
        "scaler.fit(train_data)\n",
        "train_data_norm = scaler.transform(train_data)\n",
        "test_data_norm = scaler.transform(test_data)"
      ]
    },
    {
      "cell_type": "markdown",
      "metadata": {
        "id": "uqKz9WD4NfQH"
      },
      "source": [
        "## Build a MLP using `sklearn`"
      ]
    },
    {
      "cell_type": "code",
      "execution_count": 4,
      "metadata": {
        "id": "lizlzwGvNfQH",
        "outputId": "3609168c-0113-4fd6-cd33-84fc81349174",
        "colab": {
          "base_uri": "https://localhost:8080/",
          "height": 472
        }
      },
      "outputs": [
        {
          "output_type": "stream",
          "name": "stdout",
          "text": [
            "Accuracy:  0.9\n"
          ]
        },
        {
          "output_type": "display_data",
          "data": {
            "text/plain": [
              "<Figure size 640x480 with 2 Axes>"
            ],
            "image/png": "[encoded data removed]"
          },
          "metadata": {}
        }
      ],
      "source": [
        "# Set up MLP\n",
        "from sklearn.neural_network import MLPClassifier\n",
        "from sklearn import metrics\n",
        "from sklearn.metrics import confusion_matrix, ConfusionMatrixDisplay\n",
        "import matplotlib.pyplot as plt\n",
        "\n",
        "mlp = MLPClassifier(random_state=0,hidden_layer_sizes = (100,), max_iter = 800)\n",
        "mlp.fit(train_data_norm,train_sln)\n",
        "predictions = mlp.predict(test_data_norm)\n",
        "\n",
        "print(\"Accuracy: \", metrics.accuracy_score(test_sln,predictions))\n",
        "\n",
        "# Confusion Matrix\n",
        "vals = data[target].unique() ## possible classification values (species)\n",
        "conf_mat = metrics.confusion_matrix(test_sln, predictions, labels=vals)\n",
        "\n",
        "#print(pandas.DataFrame(conf_mat, index = \"True \" + vals, columns = \"Pre \" + vals))\n",
        "\n",
        "disp = ConfusionMatrixDisplay(confusion_matrix=conf_mat,display_labels=mlp.classes_)\n",
        "disp.plot()\n",
        "plt.show()"
      ]
    },
    {
      "cell_type": "markdown",
      "metadata": {
        "id": "AmWFiRzJNfQH"
      },
      "source": [
        "# 💬 Goup Exercise:\n",
        "## In-Class Exercise #1:\n",
        "\n",
        "1. Read in the Boston Housing dataset\n",
        "2. Normalize your data\n",
        "3. Use a [`MLPRegressor`](https://scikit-learn.org/stable/modules/generated/sklearn.neural_network.MLPRegressor.html) to predict the price of a house 'MEDV'\n",
        "4. Play around with changing the parameters, see what the best R2 score you can get is. \n"
      ]
    },
    {
      "cell_type": "code",
      "execution_count": 9,
      "metadata": {
        "id": "GmSe0gZFNfQH"
      },
      "outputs": [],
      "source": [
        "# Your code goes here for the In-Class Exercise\n",
        "# 1. Read in the Boston Housing dataset\n",
        "import pandas\n",
        "path = '/content/drive/MyDrive/CS 167/boston_housing.csv' # '/content/drive/MyDrive/CS167/datasets/boston_housing.csv'\n",
        "housing_data = pandas.read_csv(path) \n",
        "\n",
        "# clean the data\n",
        "housing_data['CRIM'].fillna(housing_data['CRIM'].mean(),inplace=True)\n",
        "housing_data['ZN'].fillna(housing_data['ZN'].mean(),inplace=True)\n",
        "housing_data['INDUS'].fillna(housing_data['INDUS'].mean(),inplace=True)\n",
        "housing_data['CHAS'].fillna(housing_data['CHAS'].mean(),inplace=True)\n",
        "housing_data['AGE'].fillna(housing_data['AGE'].mean(),inplace=True)\n",
        "housing_data['LSTAT'].fillna(housing_data['LSTAT'].mean(),inplace=True)\n",
        "\n",
        "#Split the dataset\n",
        "predictors = housing_data.columns.drop('MEDV')\n",
        "target = \"MEDV\"\n",
        "train_data, test_data, train_sln, test_sln = train_test_split(housing_data[predictors], housing_data[target], test_size = 0.2, random_state=0)\n"
      ]
    },
    {
      "cell_type": "code",
      "execution_count": 10,
      "metadata": {
        "id": "qfmn38leNfQH"
      },
      "outputs": [],
      "source": [
        "#2. Normalize the data\n",
        "from sklearn.preprocessing import StandardScaler\n",
        "scaler = StandardScaler()\n",
        "\n",
        "scaler.fit(train_data)\n",
        "train_data_norm = scaler.transform(train_data)\n",
        "test_data_norm = scaler.transform(test_data)"
      ]
    },
    {
      "cell_type": "code",
      "execution_count": 14,
      "metadata": {
        "id": "GjZwELA1NfQI",
        "outputId": "f5321e38-1d93-4f10-b80d-a4302f22d647",
        "colab": {
          "base_uri": "https://localhost:8080/"
        }
      },
      "outputs": [
        {
          "output_type": "stream",
          "name": "stdout",
          "text": [
            "r2:  0.7199607559434202\n"
          ]
        }
      ],
      "source": [
        "#3. Use a MLPRegressor to predict the price of a house 'MEDV'\n",
        "from sklearn.neural_network import MLPRegressor\n",
        "from sklearn import metrics\n",
        "\n",
        "mlp = MLPRegressor(random_state=0,hidden_layer_sizes = (200,), max_iter = 1000)\n",
        "mlp.fit(train_data_norm,train_sln)\n",
        "predictions = mlp.predict(test_data_norm)\n",
        "\n",
        "print(\"r2: \", metrics.r2_score(test_sln,predictions))"
      ]
    },
    {
      "cell_type": "code",
      "execution_count": null,
      "metadata": {
        "id": "gu6IH1iwNfQI"
      },
      "outputs": [],
      "source": [
        "#4. Play around with the parameters"
      ]
    },
    {
      "cell_type": "markdown",
      "metadata": {
        "id": "ZFwJIQnlNfQI"
      },
      "source": [
        "# Introducing Deep Learning Frameworks\n",
        "\n",
        "Deep Learning Frameworks: libraries that make implementing deep learning easier--building models, training them, visualizing the data and training process, saving/loading models, utilizing GPU, etc.\n",
        "- Tensorflow, Keras\n",
        "- PyTorch\n",
        "- Jax\n",
        "- MXNet\n",
        "- Matlab\n",
        "\n"
      ]
    },
    {
      "cell_type": "markdown",
      "metadata": {
        "id": "c_ouWDq-NfQI"
      },
      "source": [
        "## Common DL Frameworks:\n",
        "\n",
        "<div>\n",
        "<img src=\"https://github.com/merriekay/S23-CS167-Notes/blob/main/images/day19_dl_frameworks.png?raw=1\" width=800/>\n",
        "</div>\n",
        "\n",
        "[image source](https://www.kaggle.com/getting-started/156399)"
      ]
    },
    {
      "cell_type": "markdown",
      "metadata": {
        "id": "oVmRGps3NfQI"
      },
      "source": [
        "# Building Neural Networks with Keras and Tensorflow:\n",
        "\n",
        "For this class, we'll be using Tensorflow, and the library that is built to make Tensorflow simpler--Keras.\n",
        "\n",
        "To build a neural network using Keras, we'll use the [`Sequential`](https://keras.io/api/models/sequential/) API. It looks something like this:\n",
        "1. Create an instance of the `Sequential` class\n",
        "2. call `add` on the `Sequential` object to add layers. \n",
        "    - The layers are instances of classes such as [`Dense`](https://keras.io/api/layers/core_layers/dense/), which represents a fully connected layer with a specified number of neurons."
      ]
    },
    {
      "cell_type": "code",
      "execution_count": 20,
      "metadata": {
        "id": "nPmXwK4WNfQI"
      },
      "outputs": [],
      "source": [
        "from sklearn.datasets import load_iris\n",
        "from tensorflow.keras.models import Sequential\n",
        "from tensorflow.keras.layers import Dense\n",
        "\n",
        "# step 1: create an instance of the sequential class\n",
        "model = Sequential()\n",
        "\n",
        "#step 2:  call add on the sequential object to add layers\n",
        "model.add(Dense(3, activation='relu', input_dim=2))\n",
        "model.add(Dense(1))"
      ]
    },
    {
      "cell_type": "markdown",
      "metadata": {
        "id": "r_afX9l3NfQJ"
      },
      "source": [
        "This model contains the following:\n",
        "- an input layer with 2 neurons\n",
        "- a hidden layer with three neurons\n",
        "- an output layer with one neuron. \n",
        "\n",
        "Values passed from the hidden layer to the output layer are transformed by the ReLu activation function, which turns negative numbers onto 0s, and heps the model fit to nonlinear datasets.\n",
        "\n",
        "> Notice that you don't have to add the input layer explicitly, the `input_dim=2` parameter in the first hidden layer implicitly creates an input layer with 2 neurons."
      ]
    },
    {
      "cell_type": "code",
      "execution_count": 21,
      "metadata": {
        "id": "gmpCasI9NfQJ",
        "outputId": "8e79eebf-761d-4ea4-ab77-34bb1516b776",
        "colab": {
          "base_uri": "https://localhost:8080/"
        }
      },
      "outputs": [
        {
          "output_type": "stream",
          "name": "stdout",
          "text": [
            "Model: \"sequential_1\"\n",
            "_________________________________________________________________\n",
            " Layer (type)                Output Shape              Param #   \n",
            "=================================================================\n",
            " dense_2 (Dense)             (None, 3)                 9         \n",
            "                                                                 \n",
            " dense_3 (Dense)             (None, 1)                 4         \n",
            "                                                                 \n",
            "=================================================================\n",
            "Total params: 13\n",
            "Trainable params: 13\n",
            "Non-trainable params: 0\n",
            "_________________________________________________________________\n"
          ]
        }
      ],
      "source": [
        "model.summary()"
      ]
    },
    {
      "cell_type": "markdown",
      "metadata": {
        "id": "rXZDX_H7NfQJ"
      },
      "source": [
        "## Compiling your model:\n",
        "\n",
        "Once you've built your model, your next step is to call `compile` and specify important attributes such as which optimizer and loss function to use during training.\n",
        "\n",
        "Here's an example:"
      ]
    },
    {
      "cell_type": "code",
      "execution_count": 22,
      "metadata": {
        "id": "5Y0FhujiNfQJ"
      },
      "outputs": [],
      "source": [
        "model.compile(optimizer='adam', loss='mae', metrics=['mae'])"
      ]
    },
    {
      "cell_type": "markdown",
      "metadata": {
        "id": "L6Mz16HtNfQJ"
      },
      "source": [
        "Let's walk through these parameters:\n",
        "- `optimizer= 'adam'` : this tells Keras that we will use the [`Adam`](https://keras.io/api/optimizers/adam/) optimizer to adjust weights and biases in each backpropagation pass during training. Adam is one of [eight optimizers built into Keras](https://keras.io/api/optimizers/) and is a pretty good choice to start."
      ]
    },
    {
      "cell_type": "markdown",
      "metadata": {
        "id": "w0Mg-9SwNfQJ"
      },
      "source": [
        "- `loss = 'mae'`: tells Keras to use the mean absolute error (MAE) to measure how well our model is doing (as the loss function). This is common for neural networks intended to solve regresion problems. Another commmon option here is `loss='mse'` for mean squared error (MSE)"
      ]
    },
    {
      "cell_type": "markdown",
      "metadata": {
        "id": "3vcM3KSqNfQK"
      },
      "source": [
        "- `metrics = ['mae']`: tells Keras to capture MAE values as the network is trained. This information is used after training is complete to judge the efficacy of the training."
      ]
    },
    {
      "cell_type": "markdown",
      "metadata": {
        "id": "P5JhMvntNfQK"
      },
      "source": [
        "## Next Step:\n",
        "Inside the `compile` method, Keras builds a TensorFlow object graph to speed up execution. Once the network is compiled, you can train it by calling `fit`. "
      ]
    },
    {
      "cell_type": "code",
      "execution_count": 23,
      "metadata": {
        "id": "4ZGesnEqNfQK",
        "outputId": "edebdefc-88e4-40d3-8ab3-ecde0fcab4f9",
        "colab": {
          "base_uri": "https://localhost:8080/",
          "height": 182
        }
      },
      "outputs": [
        {
          "output_type": "error",
          "ename": "NameError",
          "evalue": "ignored",
          "traceback": [
            "\u001b[0;31m---------------------------------------------------------------------------\u001b[0m",
            "\u001b[0;31mNameError\u001b[0m                                 Traceback (most recent call last)",
            "\u001b[0;32m<ipython-input-23-778df5f2c76a>\u001b[0m in \u001b[0;36m<cell line: 2>\u001b[0;34m()\u001b[0m\n\u001b[1;32m      1\u001b[0m \u001b[0;31m#this will give an error because we didn't load data ahead of time.\u001b[0m\u001b[0;34m\u001b[0m\u001b[0;34m\u001b[0m\u001b[0m\n\u001b[0;32m----> 2\u001b[0;31m \u001b[0mhist\u001b[0m \u001b[0;34m=\u001b[0m \u001b[0mmodel\u001b[0m\u001b[0;34m.\u001b[0m\u001b[0mfit\u001b[0m\u001b[0;34m(\u001b[0m\u001b[0mx\u001b[0m\u001b[0;34m,\u001b[0m\u001b[0my\u001b[0m\u001b[0;34m,\u001b[0m \u001b[0mepochs\u001b[0m\u001b[0;34m=\u001b[0m\u001b[0;36m100\u001b[0m\u001b[0;34m,\u001b[0m \u001b[0mbatch_size\u001b[0m\u001b[0;34m=\u001b[0m\u001b[0;36m100\u001b[0m\u001b[0;34m,\u001b[0m \u001b[0mvalidation_split\u001b[0m\u001b[0;34m=\u001b[0m\u001b[0;36m0.2\u001b[0m\u001b[0;34m)\u001b[0m\u001b[0;34m\u001b[0m\u001b[0;34m\u001b[0m\u001b[0m\n\u001b[0m",
            "\u001b[0;31mNameError\u001b[0m: name 'x' is not defined"
          ]
        }
      ],
      "source": [
        "#this will give an error because we didn't load data ahead of time.\n",
        "hist = model.fit(x,y, epochs=100, batch_size=100, validation_split=0.2)"
      ]
    },
    {
      "cell_type": "markdown",
      "metadata": {
        "id": "CIqKaHOYNfQK"
      },
      "source": [
        "The `fit` method accepts many parameters, Here are the ones used above:\n",
        "- `x`, the dataset's feature columns.\n",
        "- `y`, the dataset's label column--the one containing th values the network will attempt to predict.\n",
        "- `epochs=100`, tells keras to train the network for 100 iterations\n",
        "- `batch_size=100`, tells keras to pass 100 training samples through the network before making a backpropagation pass to adjust the weights and biases.\n",
        "- `validation_split=0.2`, tells keras that in each epoch, it should train with 80% of the rows in the dataset and validate the networks accuracy with the remaining 20%. "
      ]
    },
    {
      "cell_type": "markdown",
      "metadata": {
        "id": "UaojxCY-NfQK"
      },
      "source": [
        "## Get Predictions\n",
        "\n",
        "Once a neural network is trained, you call it's `predict` method to make a prediction:"
      ]
    },
    {
      "cell_type": "code",
      "execution_count": 24,
      "metadata": {
        "id": "BfsoMBefNfQK",
        "outputId": "b264d68e-9e54-4c9b-8c3b-5c5802db2220",
        "colab": {
          "base_uri": "https://localhost:8080/",
          "height": 165
        }
      },
      "outputs": [
        {
          "output_type": "error",
          "ename": "NameError",
          "evalue": "ignored",
          "traceback": [
            "\u001b[0;31m---------------------------------------------------------------------------\u001b[0m",
            "\u001b[0;31mNameError\u001b[0m                                 Traceback (most recent call last)",
            "\u001b[0;32m<ipython-input-24-bd11912d15af>\u001b[0m in \u001b[0;36m<cell line: 1>\u001b[0;34m()\u001b[0m\n\u001b[0;32m----> 1\u001b[0;31m \u001b[0mprediction\u001b[0m \u001b[0;34m=\u001b[0m \u001b[0mmodel\u001b[0m\u001b[0;34m.\u001b[0m\u001b[0mpredict\u001b[0m\u001b[0;34m(\u001b[0m\u001b[0mnp\u001b[0m\u001b[0;34m.\u001b[0m\u001b[0marray\u001b[0m\u001b[0;34m[\u001b[0m\u001b[0;34m[\u001b[0m\u001b[0;36m2\u001b[0m\u001b[0;34m,\u001b[0m\u001b[0;36m2\u001b[0m\u001b[0;34m]\u001b[0m\u001b[0;34m]\u001b[0m\u001b[0;34m)\u001b[0m\u001b[0;34m\u001b[0m\u001b[0;34m\u001b[0m\u001b[0m\n\u001b[0m",
            "\u001b[0;31mNameError\u001b[0m: name 'np' is not defined"
          ]
        }
      ],
      "source": [
        "prediction = model.predict(np.array[[2,2]])"
      ]
    },
    {
      "cell_type": "markdown",
      "metadata": {
        "id": "iMO3GOqvNfQK"
      },
      "source": [
        "In this example, the network accepts two floating-point values as input and returns a single floating-point value as output. The value returned by `predict` is that output."
      ]
    },
    {
      "cell_type": "markdown",
      "metadata": {
        "id": "sPxENGSmNfQL"
      },
      "source": [
        "## Using the GPU in Google Colab:\n",
        "\n",
        "Go ahead and go up to 'Runtime', and select 'change runtime type' from the dropdown list, select 'GPU'. If you complete this step correctly, the following code should say `Found GPU at: /device:GPU:0` or something similar."
      ]
    },
    {
      "cell_type": "code",
      "execution_count": 1,
      "metadata": {
        "id": "-BGfvwcbNfQL",
        "outputId": "bf5d727e-e410-4687-812a-8ba7ecb1a25f",
        "colab": {
          "base_uri": "https://localhost:8080/"
        }
      },
      "outputs": [
        {
          "output_type": "stream",
          "name": "stdout",
          "text": [
            "Found GPU at: /device:GPU:0\n"
          ]
        }
      ],
      "source": [
        "import tensorflow as tf\n",
        "device_name = tf.test.gpu_device_name()\n",
        "if device_name != '/device:GPU:0':\n",
        "  raise SystemError('GPU device not found')\n",
        "print('Found GPU at: {}'.format(device_name))"
      ]
    },
    {
      "cell_type": "markdown",
      "metadata": {
        "id": "ypnskqInNfQL"
      },
      "source": [
        "# Training a Neural Network to Predict Taxi Fares:\n",
        "\n",
        "Download `taxi-fares.csv` from Blackboard and put it in your Google Drive. This data is from the New York City Taxi and LImousine Commision and includes data about taxi fares.\n",
        "\n",
        "Let's start by loading in our dataset and doing some pre-processing."
      ]
    },
    {
      "cell_type": "code",
      "execution_count": 6,
      "metadata": {
        "id": "suXUQ1-FNfQL",
        "outputId": "2b2d7f9e-befd-4632-a9b0-ba92605dd256",
        "colab": {
          "base_uri": "https://localhost:8080/",
          "height": 206
        }
      },
      "outputs": [
        {
          "output_type": "execute_result",
          "data": {
            "text/plain": [
              "                             key  fare_amount           pickup_datetime  \\\n",
              "0  2014-06-15 17:11:00.000000107          7.0 2014-06-15 17:11:00+00:00   \n",
              "1   2011-03-14 22:43:00.00000095          4.9 2011-03-14 22:43:00+00:00   \n",
              "2   2011-02-14 15:14:00.00000067          6.1 2011-02-14 15:14:00+00:00   \n",
              "3   2009-10-29 11:29:00.00000040          6.9 2009-10-29 11:29:00+00:00   \n",
              "4   2011-07-02 10:38:00.00000028         10.5 2011-07-02 10:38:00+00:00   \n",
              "\n",
              "   pickup_longitude  pickup_latitude  dropoff_longitude  dropoff_latitude  \\\n",
              "0        -73.995420        40.759662         -73.987607         40.751247   \n",
              "1        -73.993552        40.731110         -73.998497         40.737200   \n",
              "2        -73.972380        40.749527         -73.990638         40.745328   \n",
              "3        -73.973703        40.763542         -73.984253         40.758603   \n",
              "4        -73.921262        40.743615         -73.967383         40.765162   \n",
              "\n",
              "   passenger_count  \n",
              "0                1  \n",
              "1                5  \n",
              "2                1  \n",
              "3                5  \n",
              "4                1  "
            ],
            "text/html": [
              "\n",
              "  <div id=\"df-8129611f-3f0b-4a26-9f26-8b05310fd5dd\">\n",
              "    <div class=\"colab-df-container\">\n",
              "      <div>\n",
              "<style scoped>\n",
              "    .dataframe tbody tr th:only-of-type {\n",
              "        vertical-align: middle;\n",
              "    }\n",
              "\n",
              "    .dataframe tbody tr th {\n",
              "        vertical-align: top;\n",
              "    }\n",
              "\n",
              "    .dataframe thead th {\n",
              "        text-align: right;\n",
              "    }\n",
              "</style>\n",
              "<table border=\"1\" class=\"dataframe\">\n",
              "  <thead>\n",
              "    <tr style=\"text-align: right;\">\n",
              "      <th></th>\n",
              "      <th>key</th>\n",
              "      <th>fare_amount</th>\n",
              "      <th>pickup_datetime</th>\n",
              "      <th>pickup_longitude</th>\n",
              "      <th>pickup_latitude</th>\n",
              "      <th>dropoff_longitude</th>\n",
              "      <th>dropoff_latitude</th>\n",
              "      <th>passenger_count</th>\n",
              "    </tr>\n",
              "  </thead>\n",
              "  <tbody>\n",
              "    <tr>\n",
              "      <th>0</th>\n",
              "      <td>2014-06-15 17:11:00.000000107</td>\n",
              "      <td>7.0</td>\n",
              "      <td>2014-06-15 17:11:00+00:00</td>\n",
              "      <td>-73.995420</td>\n",
              "      <td>40.759662</td>\n",
              "      <td>-73.987607</td>\n",
              "      <td>40.751247</td>\n",
              "      <td>1</td>\n",
              "    </tr>\n",
              "    <tr>\n",
              "      <th>1</th>\n",
              "      <td>2011-03-14 22:43:00.00000095</td>\n",
              "      <td>4.9</td>\n",
              "      <td>2011-03-14 22:43:00+00:00</td>\n",
              "      <td>-73.993552</td>\n",
              "      <td>40.731110</td>\n",
              "      <td>-73.998497</td>\n",
              "      <td>40.737200</td>\n",
              "      <td>5</td>\n",
              "    </tr>\n",
              "    <tr>\n",
              "      <th>2</th>\n",
              "      <td>2011-02-14 15:14:00.00000067</td>\n",
              "      <td>6.1</td>\n",
              "      <td>2011-02-14 15:14:00+00:00</td>\n",
              "      <td>-73.972380</td>\n",
              "      <td>40.749527</td>\n",
              "      <td>-73.990638</td>\n",
              "      <td>40.745328</td>\n",
              "      <td>1</td>\n",
              "    </tr>\n",
              "    <tr>\n",
              "      <th>3</th>\n",
              "      <td>2009-10-29 11:29:00.00000040</td>\n",
              "      <td>6.9</td>\n",
              "      <td>2009-10-29 11:29:00+00:00</td>\n",
              "      <td>-73.973703</td>\n",
              "      <td>40.763542</td>\n",
              "      <td>-73.984253</td>\n",
              "      <td>40.758603</td>\n",
              "      <td>5</td>\n",
              "    </tr>\n",
              "    <tr>\n",
              "      <th>4</th>\n",
              "      <td>2011-07-02 10:38:00.00000028</td>\n",
              "      <td>10.5</td>\n",
              "      <td>2011-07-02 10:38:00+00:00</td>\n",
              "      <td>-73.921262</td>\n",
              "      <td>40.743615</td>\n",
              "      <td>-73.967383</td>\n",
              "      <td>40.765162</td>\n",
              "      <td>1</td>\n",
              "    </tr>\n",
              "  </tbody>\n",
              "</table>\n",
              "</div>\n",
              "      <button class=\"colab-df-convert\" onclick=\"convertToInteractive('df-8129611f-3f0b-4a26-9f26-8b05310fd5dd')\"\n",
              "              title=\"Convert this dataframe to an interactive table.\"\n",
              "              style=\"display:none;\">\n",
              "        \n",
              "  <svg xmlns=\"http://www.w3.org/2000/svg\" height=\"24px\"viewBox=\"0 0 24 24\"\n",
              "       width=\"24px\">\n",
              "    <path d=\"M0 0h24v24H0V0z\" fill=\"none\"/>\n",
              "    <path d=\"M18.56 5.44l.94 2.06.94-2.06 2.06-.94-2.06-.94-.94-2.06-.94 2.06-2.06.94zm-11 1L8.5 8.5l.94-2.06 2.06-.94-2.06-.94L8.5 2.5l-.94 2.06-2.06.94zm10 10l.94 2.06.94-2.06 2.06-.94-2.06-.94-.94-2.06-.94 2.06-2.06.94z\"/><path d=\"M17.41 7.96l-1.37-1.37c-.4-.4-.92-.59-1.43-.59-.52 0-1.04.2-1.43.59L10.3 9.45l-7.72 7.72c-.78.78-.78 2.05 0 2.83L4 21.41c.39.39.9.59 1.41.59.51 0 1.02-.2 1.41-.59l7.78-7.78 2.81-2.81c.8-.78.8-2.07 0-2.86zM5.41 20L4 18.59l7.72-7.72 1.47 1.35L5.41 20z\"/>\n",
              "  </svg>\n",
              "      </button>\n",
              "      \n",
              "  <style>\n",
              "    .colab-df-container {\n",
              "      display:flex;\n",
              "      flex-wrap:wrap;\n",
              "      gap: 12px;\n",
              "    }\n",
              "\n",
              "    .colab-df-convert {\n",
              "      background-color: #E8F0FE;\n",
              "      border: none;\n",
              "      border-radius: 50%;\n",
              "      cursor: pointer;\n",
              "      display: none;\n",
              "      fill: #1967D2;\n",
              "      height: 32px;\n",
              "      padding: 0 0 0 0;\n",
              "      width: 32px;\n",
              "    }\n",
              "\n",
              "    .colab-df-convert:hover {\n",
              "      background-color: #E2EBFA;\n",
              "      box-shadow: 0px 1px 2px rgba(60, 64, 67, 0.3), 0px 1px 3px 1px rgba(60, 64, 67, 0.15);\n",
              "      fill: #174EA6;\n",
              "    }\n",
              "\n",
              "    [theme=dark] .colab-df-convert {\n",
              "      background-color: #3B4455;\n",
              "      fill: #D2E3FC;\n",
              "    }\n",
              "\n",
              "    [theme=dark] .colab-df-convert:hover {\n",
              "      background-color: #434B5C;\n",
              "      box-shadow: 0px 1px 3px 1px rgba(0, 0, 0, 0.15);\n",
              "      filter: drop-shadow(0px 1px 2px rgba(0, 0, 0, 0.3));\n",
              "      fill: #FFFFFF;\n",
              "    }\n",
              "  </style>\n",
              "\n",
              "      <script>\n",
              "        const buttonEl =\n",
              "          document.querySelector('#df-8129611f-3f0b-4a26-9f26-8b05310fd5dd button.colab-df-convert');\n",
              "        buttonEl.style.display =\n",
              "          google.colab.kernel.accessAllowed ? 'block' : 'none';\n",
              "\n",
              "        async function convertToInteractive(key) {\n",
              "          const element = document.querySelector('#df-8129611f-3f0b-4a26-9f26-8b05310fd5dd');\n",
              "          const dataTable =\n",
              "            await google.colab.kernel.invokeFunction('convertToInteractive',\n",
              "                                                     [key], {});\n",
              "          if (!dataTable) return;\n",
              "\n",
              "          const docLinkHtml = 'Like what you see? Visit the ' +\n",
              "            '<a target=\"_blank\" href=https://colab.research.google.com/notebooks/data_table.ipynb>data table notebook</a>'\n",
              "            + ' to learn more about interactive tables.';\n",
              "          element.innerHTML = '';\n",
              "          dataTable['output_type'] = 'display_data';\n",
              "          await google.colab.output.renderOutput(dataTable, element);\n",
              "          const docLink = document.createElement('div');\n",
              "          docLink.innerHTML = docLinkHtml;\n",
              "          element.appendChild(docLink);\n",
              "        }\n",
              "      </script>\n",
              "    </div>\n",
              "  </div>\n",
              "  "
            ]
          },
          "metadata": {},
          "execution_count": 6
        }
      ],
      "source": [
        "import pandas as pd\n",
        "path = '/content/drive/MyDrive/CS 167/taxi-fares.csv' #'/content/drive/MyDrive/CS167/datasets/taxi-fares.csv'\n",
        "df = pd.read_csv(path, parse_dates=['pickup_datetime'])\n",
        "df.head()"
      ]
    },
    {
      "cell_type": "markdown",
      "metadata": {
        "id": "YrXQdvtcNfQL"
      },
      "source": [
        "## Data Prep:\n",
        "\n",
        "For a full explanation, [see here](https://github.com/jeffprosise/Applied-Machine-Learning/blob/main/Chapter%202/Regression%20(Taxi%20Fares).ipynb)"
      ]
    },
    {
      "cell_type": "code",
      "execution_count": 7,
      "metadata": {
        "id": "IH_Li_ULNfQL",
        "outputId": "34aa91bb-082f-447f-bd03-ccbf9c34f634",
        "colab": {
          "base_uri": "https://localhost:8080/",
          "height": 206
        }
      },
      "outputs": [
        {
          "output_type": "execute_result",
          "data": {
            "text/plain": [
              "   fare_amount  day_of_week  pickup_time  distance\n",
              "2          6.1          0.0         15.0  1.038136\n",
              "4         10.5          5.0         10.0  2.924341\n",
              "5         15.3          4.0         20.0  4.862893\n",
              "8          7.7          5.0          1.0  2.603493\n",
              "9          8.9          3.0         16.0  1.365739"
            ],
            "text/html": [
              "\n",
              "  <div id=\"df-0c0ac7fa-ba7e-47fd-a7c6-5971c64eea20\">\n",
              "    <div class=\"colab-df-container\">\n",
              "      <div>\n",
              "<style scoped>\n",
              "    .dataframe tbody tr th:only-of-type {\n",
              "        vertical-align: middle;\n",
              "    }\n",
              "\n",
              "    .dataframe tbody tr th {\n",
              "        vertical-align: top;\n",
              "    }\n",
              "\n",
              "    .dataframe thead th {\n",
              "        text-align: right;\n",
              "    }\n",
              "</style>\n",
              "<table border=\"1\" class=\"dataframe\">\n",
              "  <thead>\n",
              "    <tr style=\"text-align: right;\">\n",
              "      <th></th>\n",
              "      <th>fare_amount</th>\n",
              "      <th>day_of_week</th>\n",
              "      <th>pickup_time</th>\n",
              "      <th>distance</th>\n",
              "    </tr>\n",
              "  </thead>\n",
              "  <tbody>\n",
              "    <tr>\n",
              "      <th>2</th>\n",
              "      <td>6.1</td>\n",
              "      <td>0.0</td>\n",
              "      <td>15.0</td>\n",
              "      <td>1.038136</td>\n",
              "    </tr>\n",
              "    <tr>\n",
              "      <th>4</th>\n",
              "      <td>10.5</td>\n",
              "      <td>5.0</td>\n",
              "      <td>10.0</td>\n",
              "      <td>2.924341</td>\n",
              "    </tr>\n",
              "    <tr>\n",
              "      <th>5</th>\n",
              "      <td>15.3</td>\n",
              "      <td>4.0</td>\n",
              "      <td>20.0</td>\n",
              "      <td>4.862893</td>\n",
              "    </tr>\n",
              "    <tr>\n",
              "      <th>8</th>\n",
              "      <td>7.7</td>\n",
              "      <td>5.0</td>\n",
              "      <td>1.0</td>\n",
              "      <td>2.603493</td>\n",
              "    </tr>\n",
              "    <tr>\n",
              "      <th>9</th>\n",
              "      <td>8.9</td>\n",
              "      <td>3.0</td>\n",
              "      <td>16.0</td>\n",
              "      <td>1.365739</td>\n",
              "    </tr>\n",
              "  </tbody>\n",
              "</table>\n",
              "</div>\n",
              "      <button class=\"colab-df-convert\" onclick=\"convertToInteractive('df-0c0ac7fa-ba7e-47fd-a7c6-5971c64eea20')\"\n",
              "              title=\"Convert this dataframe to an interactive table.\"\n",
              "              style=\"display:none;\">\n",
              "        \n",
              "  <svg xmlns=\"http://www.w3.org/2000/svg\" height=\"24px\"viewBox=\"0 0 24 24\"\n",
              "       width=\"24px\">\n",
              "    <path d=\"M0 0h24v24H0V0z\" fill=\"none\"/>\n",
              "    <path d=\"M18.56 5.44l.94 2.06.94-2.06 2.06-.94-2.06-.94-.94-2.06-.94 2.06-2.06.94zm-11 1L8.5 8.5l.94-2.06 2.06-.94-2.06-.94L8.5 2.5l-.94 2.06-2.06.94zm10 10l.94 2.06.94-2.06 2.06-.94-2.06-.94-.94-2.06-.94 2.06-2.06.94z\"/><path d=\"M17.41 7.96l-1.37-1.37c-.4-.4-.92-.59-1.43-.59-.52 0-1.04.2-1.43.59L10.3 9.45l-7.72 7.72c-.78.78-.78 2.05 0 2.83L4 21.41c.39.39.9.59 1.41.59.51 0 1.02-.2 1.41-.59l7.78-7.78 2.81-2.81c.8-.78.8-2.07 0-2.86zM5.41 20L4 18.59l7.72-7.72 1.47 1.35L5.41 20z\"/>\n",
              "  </svg>\n",
              "      </button>\n",
              "      \n",
              "  <style>\n",
              "    .colab-df-container {\n",
              "      display:flex;\n",
              "      flex-wrap:wrap;\n",
              "      gap: 12px;\n",
              "    }\n",
              "\n",
              "    .colab-df-convert {\n",
              "      background-color: #E8F0FE;\n",
              "      border: none;\n",
              "      border-radius: 50%;\n",
              "      cursor: pointer;\n",
              "      display: none;\n",
              "      fill: #1967D2;\n",
              "      height: 32px;\n",
              "      padding: 0 0 0 0;\n",
              "      width: 32px;\n",
              "    }\n",
              "\n",
              "    .colab-df-convert:hover {\n",
              "      background-color: #E2EBFA;\n",
              "      box-shadow: 0px 1px 2px rgba(60, 64, 67, 0.3), 0px 1px 3px 1px rgba(60, 64, 67, 0.15);\n",
              "      fill: #174EA6;\n",
              "    }\n",
              "\n",
              "    [theme=dark] .colab-df-convert {\n",
              "      background-color: #3B4455;\n",
              "      fill: #D2E3FC;\n",
              "    }\n",
              "\n",
              "    [theme=dark] .colab-df-convert:hover {\n",
              "      background-color: #434B5C;\n",
              "      box-shadow: 0px 1px 3px 1px rgba(0, 0, 0, 0.15);\n",
              "      filter: drop-shadow(0px 1px 2px rgba(0, 0, 0, 0.3));\n",
              "      fill: #FFFFFF;\n",
              "    }\n",
              "  </style>\n",
              "\n",
              "      <script>\n",
              "        const buttonEl =\n",
              "          document.querySelector('#df-0c0ac7fa-ba7e-47fd-a7c6-5971c64eea20 button.colab-df-convert');\n",
              "        buttonEl.style.display =\n",
              "          google.colab.kernel.accessAllowed ? 'block' : 'none';\n",
              "\n",
              "        async function convertToInteractive(key) {\n",
              "          const element = document.querySelector('#df-0c0ac7fa-ba7e-47fd-a7c6-5971c64eea20');\n",
              "          const dataTable =\n",
              "            await google.colab.kernel.invokeFunction('convertToInteractive',\n",
              "                                                     [key], {});\n",
              "          if (!dataTable) return;\n",
              "\n",
              "          const docLinkHtml = 'Like what you see? Visit the ' +\n",
              "            '<a target=\"_blank\" href=https://colab.research.google.com/notebooks/data_table.ipynb>data table notebook</a>'\n",
              "            + ' to learn more about interactive tables.';\n",
              "          element.innerHTML = '';\n",
              "          dataTable['output_type'] = 'display_data';\n",
              "          await google.colab.output.renderOutput(dataTable, element);\n",
              "          const docLink = document.createElement('div');\n",
              "          docLink.innerHTML = docLinkHtml;\n",
              "          element.appendChild(docLink);\n",
              "        }\n",
              "      </script>\n",
              "    </div>\n",
              "  </div>\n",
              "  "
            ]
          },
          "metadata": {},
          "execution_count": 7
        }
      ],
      "source": [
        "from math import sqrt\n",
        " \n",
        "df = df[df['passenger_count'] == 1]\n",
        "df = df.drop(['key', 'passenger_count'], axis=1)\n",
        " \n",
        "for i, row in df.iterrows():\n",
        "    dt = row['pickup_datetime']\n",
        "    df.at[i, 'day_of_week'] = dt.weekday()\n",
        "    df.at[i, 'pickup_time'] = dt.hour\n",
        "    x = (row['dropoff_longitude'] - row['pickup_longitude']) * 54.6\n",
        "    y = (row['dropoff_latitude'] - row['pickup_latitude']) * 69.0\n",
        "    distance = sqrt(x**2 + y**2)\n",
        "    df.at[i, 'distance'] = distance\n",
        " \n",
        "df.drop(['pickup_datetime', 'pickup_longitude', 'pickup_latitude',\n",
        "         'dropoff_longitude', 'dropoff_latitude'], axis=1, inplace=True)\n",
        " \n",
        "df = df[(df['distance'] > 1.0) & (df['distance'] < 10.0)]\n",
        "df = df[(df['fare_amount'] > 0.0) & (df['fare_amount'] < 50.0)]\n",
        "df.head()"
      ]
    },
    {
      "cell_type": "markdown",
      "metadata": {
        "id": "7XUOTP00NfQM"
      },
      "source": [
        "## Build our model:\n",
        "Things to consider:\n",
        "- What should the `input_dim` be?\n",
        "- How many hidden layers?\n",
        "- How many neurons per layer?\n",
        "- What activation to use for hidden layers?\n",
        "- How many output neurons?\n",
        "- What activation for the output layer?\n"
      ]
    },
    {
      "cell_type": "code",
      "execution_count": 8,
      "metadata": {
        "id": "R0mmWexwNfQM",
        "outputId": "1b203408-a8c6-4d44-8471-d69a79266a2f",
        "colab": {
          "base_uri": "https://localhost:8080/",
          "height": 206
        }
      },
      "outputs": [
        {
          "output_type": "execute_result",
          "data": {
            "text/plain": [
              "   fare_amount  day_of_week  pickup_time  distance\n",
              "2          6.1          0.0         15.0  1.038136\n",
              "4         10.5          5.0         10.0  2.924341\n",
              "5         15.3          4.0         20.0  4.862893\n",
              "8          7.7          5.0          1.0  2.603493\n",
              "9          8.9          3.0         16.0  1.365739"
            ],
            "text/html": [
              "\n",
              "  <div id=\"df-0b150c09-c025-4a3b-84e0-1240c047c6e5\">\n",
              "    <div class=\"colab-df-container\">\n",
              "      <div>\n",
              "<style scoped>\n",
              "    .dataframe tbody tr th:only-of-type {\n",
              "        vertical-align: middle;\n",
              "    }\n",
              "\n",
              "    .dataframe tbody tr th {\n",
              "        vertical-align: top;\n",
              "    }\n",
              "\n",
              "    .dataframe thead th {\n",
              "        text-align: right;\n",
              "    }\n",
              "</style>\n",
              "<table border=\"1\" class=\"dataframe\">\n",
              "  <thead>\n",
              "    <tr style=\"text-align: right;\">\n",
              "      <th></th>\n",
              "      <th>fare_amount</th>\n",
              "      <th>day_of_week</th>\n",
              "      <th>pickup_time</th>\n",
              "      <th>distance</th>\n",
              "    </tr>\n",
              "  </thead>\n",
              "  <tbody>\n",
              "    <tr>\n",
              "      <th>2</th>\n",
              "      <td>6.1</td>\n",
              "      <td>0.0</td>\n",
              "      <td>15.0</td>\n",
              "      <td>1.038136</td>\n",
              "    </tr>\n",
              "    <tr>\n",
              "      <th>4</th>\n",
              "      <td>10.5</td>\n",
              "      <td>5.0</td>\n",
              "      <td>10.0</td>\n",
              "      <td>2.924341</td>\n",
              "    </tr>\n",
              "    <tr>\n",
              "      <th>5</th>\n",
              "      <td>15.3</td>\n",
              "      <td>4.0</td>\n",
              "      <td>20.0</td>\n",
              "      <td>4.862893</td>\n",
              "    </tr>\n",
              "    <tr>\n",
              "      <th>8</th>\n",
              "      <td>7.7</td>\n",
              "      <td>5.0</td>\n",
              "      <td>1.0</td>\n",
              "      <td>2.603493</td>\n",
              "    </tr>\n",
              "    <tr>\n",
              "      <th>9</th>\n",
              "      <td>8.9</td>\n",
              "      <td>3.0</td>\n",
              "      <td>16.0</td>\n",
              "      <td>1.365739</td>\n",
              "    </tr>\n",
              "  </tbody>\n",
              "</table>\n",
              "</div>\n",
              "      <button class=\"colab-df-convert\" onclick=\"convertToInteractive('df-0b150c09-c025-4a3b-84e0-1240c047c6e5')\"\n",
              "              title=\"Convert this dataframe to an interactive table.\"\n",
              "              style=\"display:none;\">\n",
              "        \n",
              "  <svg xmlns=\"http://www.w3.org/2000/svg\" height=\"24px\"viewBox=\"0 0 24 24\"\n",
              "       width=\"24px\">\n",
              "    <path d=\"M0 0h24v24H0V0z\" fill=\"none\"/>\n",
              "    <path d=\"M18.56 5.44l.94 2.06.94-2.06 2.06-.94-2.06-.94-.94-2.06-.94 2.06-2.06.94zm-11 1L8.5 8.5l.94-2.06 2.06-.94-2.06-.94L8.5 2.5l-.94 2.06-2.06.94zm10 10l.94 2.06.94-2.06 2.06-.94-2.06-.94-.94-2.06-.94 2.06-2.06.94z\"/><path d=\"M17.41 7.96l-1.37-1.37c-.4-.4-.92-.59-1.43-.59-.52 0-1.04.2-1.43.59L10.3 9.45l-7.72 7.72c-.78.78-.78 2.05 0 2.83L4 21.41c.39.39.9.59 1.41.59.51 0 1.02-.2 1.41-.59l7.78-7.78 2.81-2.81c.8-.78.8-2.07 0-2.86zM5.41 20L4 18.59l7.72-7.72 1.47 1.35L5.41 20z\"/>\n",
              "  </svg>\n",
              "      </button>\n",
              "      \n",
              "  <style>\n",
              "    .colab-df-container {\n",
              "      display:flex;\n",
              "      flex-wrap:wrap;\n",
              "      gap: 12px;\n",
              "    }\n",
              "\n",
              "    .colab-df-convert {\n",
              "      background-color: #E8F0FE;\n",
              "      border: none;\n",
              "      border-radius: 50%;\n",
              "      cursor: pointer;\n",
              "      display: none;\n",
              "      fill: #1967D2;\n",
              "      height: 32px;\n",
              "      padding: 0 0 0 0;\n",
              "      width: 32px;\n",
              "    }\n",
              "\n",
              "    .colab-df-convert:hover {\n",
              "      background-color: #E2EBFA;\n",
              "      box-shadow: 0px 1px 2px rgba(60, 64, 67, 0.3), 0px 1px 3px 1px rgba(60, 64, 67, 0.15);\n",
              "      fill: #174EA6;\n",
              "    }\n",
              "\n",
              "    [theme=dark] .colab-df-convert {\n",
              "      background-color: #3B4455;\n",
              "      fill: #D2E3FC;\n",
              "    }\n",
              "\n",
              "    [theme=dark] .colab-df-convert:hover {\n",
              "      background-color: #434B5C;\n",
              "      box-shadow: 0px 1px 3px 1px rgba(0, 0, 0, 0.15);\n",
              "      filter: drop-shadow(0px 1px 2px rgba(0, 0, 0, 0.3));\n",
              "      fill: #FFFFFF;\n",
              "    }\n",
              "  </style>\n",
              "\n",
              "      <script>\n",
              "        const buttonEl =\n",
              "          document.querySelector('#df-0b150c09-c025-4a3b-84e0-1240c047c6e5 button.colab-df-convert');\n",
              "        buttonEl.style.display =\n",
              "          google.colab.kernel.accessAllowed ? 'block' : 'none';\n",
              "\n",
              "        async function convertToInteractive(key) {\n",
              "          const element = document.querySelector('#df-0b150c09-c025-4a3b-84e0-1240c047c6e5');\n",
              "          const dataTable =\n",
              "            await google.colab.kernel.invokeFunction('convertToInteractive',\n",
              "                                                     [key], {});\n",
              "          if (!dataTable) return;\n",
              "\n",
              "          const docLinkHtml = 'Like what you see? Visit the ' +\n",
              "            '<a target=\"_blank\" href=https://colab.research.google.com/notebooks/data_table.ipynb>data table notebook</a>'\n",
              "            + ' to learn more about interactive tables.';\n",
              "          element.innerHTML = '';\n",
              "          dataTable['output_type'] = 'display_data';\n",
              "          await google.colab.output.renderOutput(dataTable, element);\n",
              "          const docLink = document.createElement('div');\n",
              "          docLink.innerHTML = docLinkHtml;\n",
              "          element.appendChild(docLink);\n",
              "        }\n",
              "      </script>\n",
              "    </div>\n",
              "  </div>\n",
              "  "
            ]
          },
          "metadata": {},
          "execution_count": 8
        }
      ],
      "source": [
        "df.head()"
      ]
    },
    {
      "cell_type": "code",
      "execution_count": 9,
      "metadata": {
        "id": "65wpUeSmNfQM",
        "outputId": "14931fbb-ad66-4f9d-8dc8-622476610df3",
        "colab": {
          "base_uri": "https://localhost:8080/"
        }
      },
      "outputs": [
        {
          "output_type": "stream",
          "name": "stdout",
          "text": [
            "Model: \"sequential\"\n",
            "_________________________________________________________________\n",
            " Layer (type)                Output Shape              Param #   \n",
            "=================================================================\n",
            " dense (Dense)               (None, 512)               2048      \n",
            "                                                                 \n",
            " dense_1 (Dense)             (None, 512)               262656    \n",
            "                                                                 \n",
            " dense_2 (Dense)             (None, 1)                 513       \n",
            "                                                                 \n",
            "=================================================================\n",
            "Total params: 265,217\n",
            "Trainable params: 265,217\n",
            "Non-trainable params: 0\n",
            "_________________________________________________________________\n"
          ]
        }
      ],
      "source": [
        "from tensorflow.keras.models import Sequential\n",
        "from tensorflow.keras.layers import Dense\n",
        " \n",
        "model = Sequential()\n",
        "model.add(Dense(512, activation='relu', input_dim=3))\n",
        "model.add(Dense(512, activation='relu'))\n",
        "model.add(Dense(1))\n",
        "model.compile(optimizer='adam', loss='mae', metrics=['mae'])\n",
        "model.summary()"
      ]
    },
    {
      "cell_type": "markdown",
      "metadata": {
        "id": "-ow8L7w9NfQM"
      },
      "source": [
        "## Now, let's train our model:"
      ]
    },
    {
      "cell_type": "code",
      "execution_count": 10,
      "metadata": {
        "id": "CLyIYNt7NfQM",
        "outputId": "742f43fe-dde6-421f-ba6f-69b4592c5c7e",
        "colab": {
          "base_uri": "https://localhost:8080/"
        }
      },
      "outputs": [
        {
          "output_type": "stream",
          "name": "stdout",
          "text": [
            "Epoch 1/100\n",
            "187/187 [==============================] - 6s 5ms/step - loss: 2.9631 - mae: 2.9631 - val_loss: 2.3732 - val_mae: 2.3732\n",
            "Epoch 2/100\n",
            "187/187 [==============================] - 1s 4ms/step - loss: 2.4031 - mae: 2.4031 - val_loss: 2.3791 - val_mae: 2.3791\n",
            "Epoch 3/100\n",
            "187/187 [==============================] - 1s 4ms/step - loss: 2.3627 - mae: 2.3627 - val_loss: 2.3770 - val_mae: 2.3770\n",
            "Epoch 4/100\n",
            "187/187 [==============================] - 1s 5ms/step - loss: 2.3760 - mae: 2.3760 - val_loss: 2.3870 - val_mae: 2.3870\n",
            "Epoch 5/100\n",
            "187/187 [==============================] - 1s 5ms/step - loss: 2.3682 - mae: 2.3682 - val_loss: 2.3666 - val_mae: 2.3666\n",
            "Epoch 6/100\n",
            "187/187 [==============================] - 1s 6ms/step - loss: 2.3722 - mae: 2.3722 - val_loss: 2.3602 - val_mae: 2.3602\n",
            "Epoch 7/100\n",
            "187/187 [==============================] - 1s 5ms/step - loss: 2.3580 - mae: 2.3580 - val_loss: 2.3412 - val_mae: 2.3412\n",
            "Epoch 8/100\n",
            "187/187 [==============================] - 1s 4ms/step - loss: 2.3590 - mae: 2.3590 - val_loss: 2.3675 - val_mae: 2.3675\n",
            "Epoch 9/100\n",
            "187/187 [==============================] - 1s 4ms/step - loss: 2.3435 - mae: 2.3435 - val_loss: 2.3463 - val_mae: 2.3463\n",
            "Epoch 10/100\n",
            "187/187 [==============================] - 1s 4ms/step - loss: 2.3575 - mae: 2.3575 - val_loss: 2.3662 - val_mae: 2.3662\n",
            "Epoch 11/100\n",
            "187/187 [==============================] - 1s 4ms/step - loss: 2.3436 - mae: 2.3436 - val_loss: 2.3291 - val_mae: 2.3291\n",
            "Epoch 12/100\n",
            "187/187 [==============================] - 1s 4ms/step - loss: 2.3501 - mae: 2.3501 - val_loss: 2.3357 - val_mae: 2.3357\n",
            "Epoch 13/100\n",
            "187/187 [==============================] - 1s 4ms/step - loss: 2.3404 - mae: 2.3404 - val_loss: 2.3316 - val_mae: 2.3316\n",
            "Epoch 14/100\n",
            "187/187 [==============================] - 1s 4ms/step - loss: 2.3355 - mae: 2.3355 - val_loss: 2.3688 - val_mae: 2.3688\n",
            "Epoch 15/100\n",
            "187/187 [==============================] - 1s 4ms/step - loss: 2.3431 - mae: 2.3431 - val_loss: 2.3407 - val_mae: 2.3407\n",
            "Epoch 16/100\n",
            "187/187 [==============================] - 1s 4ms/step - loss: 2.3317 - mae: 2.3317 - val_loss: 2.3145 - val_mae: 2.3145\n",
            "Epoch 17/100\n",
            "187/187 [==============================] - 1s 4ms/step - loss: 2.3501 - mae: 2.3501 - val_loss: 2.3160 - val_mae: 2.3160\n",
            "Epoch 18/100\n",
            "187/187 [==============================] - 1s 4ms/step - loss: 2.3415 - mae: 2.3415 - val_loss: 2.3163 - val_mae: 2.3163\n",
            "Epoch 19/100\n",
            "187/187 [==============================] - 1s 4ms/step - loss: 2.3404 - mae: 2.3404 - val_loss: 2.3194 - val_mae: 2.3194\n",
            "Epoch 20/100\n",
            "187/187 [==============================] - 1s 4ms/step - loss: 2.3214 - mae: 2.3214 - val_loss: 2.3462 - val_mae: 2.3462\n",
            "Epoch 21/100\n",
            "187/187 [==============================] - 1s 6ms/step - loss: 2.3312 - mae: 2.3312 - val_loss: 2.3498 - val_mae: 2.3498\n",
            "Epoch 22/100\n",
            "187/187 [==============================] - 1s 6ms/step - loss: 2.3208 - mae: 2.3208 - val_loss: 2.3119 - val_mae: 2.3119\n",
            "Epoch 23/100\n",
            "187/187 [==============================] - 1s 6ms/step - loss: 2.3246 - mae: 2.3246 - val_loss: 2.3274 - val_mae: 2.3274\n",
            "Epoch 24/100\n",
            "187/187 [==============================] - 1s 6ms/step - loss: 2.3244 - mae: 2.3244 - val_loss: 2.3115 - val_mae: 2.3115\n",
            "Epoch 25/100\n",
            "187/187 [==============================] - 1s 4ms/step - loss: 2.3272 - mae: 2.3272 - val_loss: 2.3021 - val_mae: 2.3021\n",
            "Epoch 26/100\n",
            "187/187 [==============================] - 1s 4ms/step - loss: 2.3367 - mae: 2.3367 - val_loss: 2.3417 - val_mae: 2.3417\n",
            "Epoch 27/100\n",
            "187/187 [==============================] - 1s 4ms/step - loss: 2.3386 - mae: 2.3386 - val_loss: 2.2959 - val_mae: 2.2959\n",
            "Epoch 28/100\n",
            "187/187 [==============================] - 1s 4ms/step - loss: 2.3251 - mae: 2.3251 - val_loss: 2.3108 - val_mae: 2.3108\n",
            "Epoch 29/100\n",
            "187/187 [==============================] - 1s 4ms/step - loss: 2.3178 - mae: 2.3178 - val_loss: 2.3071 - val_mae: 2.3071\n",
            "Epoch 30/100\n",
            "187/187 [==============================] - 1s 4ms/step - loss: 2.3247 - mae: 2.3247 - val_loss: 2.2941 - val_mae: 2.2941\n",
            "Epoch 31/100\n",
            "187/187 [==============================] - 1s 4ms/step - loss: 2.3200 - mae: 2.3200 - val_loss: 2.3050 - val_mae: 2.3050\n",
            "Epoch 32/100\n",
            "187/187 [==============================] - 1s 4ms/step - loss: 2.3099 - mae: 2.3099 - val_loss: 2.3187 - val_mae: 2.3187\n",
            "Epoch 33/100\n",
            "187/187 [==============================] - 1s 4ms/step - loss: 2.3175 - mae: 2.3175 - val_loss: 2.3478 - val_mae: 2.3478\n",
            "Epoch 34/100\n",
            "187/187 [==============================] - 1s 4ms/step - loss: 2.3174 - mae: 2.3174 - val_loss: 2.3053 - val_mae: 2.3053\n",
            "Epoch 35/100\n",
            "187/187 [==============================] - 1s 4ms/step - loss: 2.3115 - mae: 2.3115 - val_loss: 2.3236 - val_mae: 2.3236\n",
            "Epoch 36/100\n",
            "187/187 [==============================] - 1s 4ms/step - loss: 2.3150 - mae: 2.3150 - val_loss: 2.2911 - val_mae: 2.2911\n",
            "Epoch 37/100\n",
            "187/187 [==============================] - 1s 4ms/step - loss: 2.3109 - mae: 2.3109 - val_loss: 2.3081 - val_mae: 2.3081\n",
            "Epoch 38/100\n",
            "187/187 [==============================] - 1s 6ms/step - loss: 2.3137 - mae: 2.3137 - val_loss: 2.3286 - val_mae: 2.3286\n",
            "Epoch 39/100\n",
            "187/187 [==============================] - 1s 5ms/step - loss: 2.3029 - mae: 2.3029 - val_loss: 2.3192 - val_mae: 2.3192\n",
            "Epoch 40/100\n",
            "187/187 [==============================] - 1s 5ms/step - loss: 2.3029 - mae: 2.3029 - val_loss: 2.3128 - val_mae: 2.3128\n",
            "Epoch 41/100\n",
            "187/187 [==============================] - 1s 5ms/step - loss: 2.3079 - mae: 2.3079 - val_loss: 2.2916 - val_mae: 2.2916\n",
            "Epoch 42/100\n",
            "187/187 [==============================] - 1s 4ms/step - loss: 2.3072 - mae: 2.3072 - val_loss: 2.3905 - val_mae: 2.3905\n",
            "Epoch 43/100\n",
            "187/187 [==============================] - 1s 4ms/step - loss: 2.3054 - mae: 2.3054 - val_loss: 2.3061 - val_mae: 2.3061\n",
            "Epoch 44/100\n",
            "187/187 [==============================] - 1s 4ms/step - loss: 2.3133 - mae: 2.3133 - val_loss: 2.3067 - val_mae: 2.3067\n",
            "Epoch 45/100\n",
            "187/187 [==============================] - 1s 4ms/step - loss: 2.3005 - mae: 2.3005 - val_loss: 2.3002 - val_mae: 2.3002\n",
            "Epoch 46/100\n",
            "187/187 [==============================] - 1s 4ms/step - loss: 2.3067 - mae: 2.3067 - val_loss: 2.2921 - val_mae: 2.2921\n",
            "Epoch 47/100\n",
            "187/187 [==============================] - 1s 4ms/step - loss: 2.2940 - mae: 2.2940 - val_loss: 2.2800 - val_mae: 2.2800\n",
            "Epoch 48/100\n",
            "187/187 [==============================] - 1s 4ms/step - loss: 2.3010 - mae: 2.3010 - val_loss: 2.3051 - val_mae: 2.3051\n",
            "Epoch 49/100\n",
            "187/187 [==============================] - 1s 4ms/step - loss: 2.3009 - mae: 2.3009 - val_loss: 2.2778 - val_mae: 2.2778\n",
            "Epoch 50/100\n",
            "187/187 [==============================] - 1s 4ms/step - loss: 2.2995 - mae: 2.2995 - val_loss: 2.3350 - val_mae: 2.3350\n",
            "Epoch 51/100\n",
            "187/187 [==============================] - 1s 4ms/step - loss: 2.2915 - mae: 2.2915 - val_loss: 2.3106 - val_mae: 2.3106\n",
            "Epoch 52/100\n",
            "187/187 [==============================] - 1s 4ms/step - loss: 2.2936 - mae: 2.2936 - val_loss: 2.2928 - val_mae: 2.2928\n",
            "Epoch 53/100\n",
            "187/187 [==============================] - 1s 4ms/step - loss: 2.2945 - mae: 2.2945 - val_loss: 2.3043 - val_mae: 2.3043\n",
            "Epoch 54/100\n",
            "187/187 [==============================] - 1s 4ms/step - loss: 2.2927 - mae: 2.2927 - val_loss: 2.2766 - val_mae: 2.2766\n",
            "Epoch 55/100\n",
            "187/187 [==============================] - 1s 5ms/step - loss: 2.2848 - mae: 2.2848 - val_loss: 2.2680 - val_mae: 2.2680\n",
            "Epoch 56/100\n",
            "187/187 [==============================] - 1s 6ms/step - loss: 2.2967 - mae: 2.2967 - val_loss: 2.2684 - val_mae: 2.2684\n",
            "Epoch 57/100\n",
            "187/187 [==============================] - 1s 6ms/step - loss: 2.2952 - mae: 2.2952 - val_loss: 2.2959 - val_mae: 2.2959\n",
            "Epoch 58/100\n",
            "187/187 [==============================] - 1s 6ms/step - loss: 2.2875 - mae: 2.2875 - val_loss: 2.2828 - val_mae: 2.2828\n",
            "Epoch 59/100\n",
            "187/187 [==============================] - 1s 4ms/step - loss: 2.2891 - mae: 2.2891 - val_loss: 2.2647 - val_mae: 2.2647\n",
            "Epoch 60/100\n",
            "187/187 [==============================] - 1s 4ms/step - loss: 2.2929 - mae: 2.2929 - val_loss: 2.3710 - val_mae: 2.3710\n",
            "Epoch 61/100\n",
            "187/187 [==============================] - 1s 4ms/step - loss: 2.2854 - mae: 2.2854 - val_loss: 2.2969 - val_mae: 2.2969\n",
            "Epoch 62/100\n",
            "187/187 [==============================] - 1s 4ms/step - loss: 2.2955 - mae: 2.2955 - val_loss: 2.2979 - val_mae: 2.2979\n",
            "Epoch 63/100\n",
            "187/187 [==============================] - 1s 4ms/step - loss: 2.2823 - mae: 2.2823 - val_loss: 2.2654 - val_mae: 2.2654\n",
            "Epoch 64/100\n",
            "187/187 [==============================] - 1s 4ms/step - loss: 2.2939 - mae: 2.2939 - val_loss: 2.2691 - val_mae: 2.2691\n",
            "Epoch 65/100\n",
            "187/187 [==============================] - 1s 4ms/step - loss: 2.2964 - mae: 2.2964 - val_loss: 2.2604 - val_mae: 2.2604\n",
            "Epoch 66/100\n",
            "187/187 [==============================] - 1s 4ms/step - loss: 2.2957 - mae: 2.2957 - val_loss: 2.3052 - val_mae: 2.3052\n",
            "Epoch 67/100\n",
            "187/187 [==============================] - 1s 4ms/step - loss: 2.2872 - mae: 2.2872 - val_loss: 2.2602 - val_mae: 2.2602\n",
            "Epoch 68/100\n",
            "187/187 [==============================] - 1s 4ms/step - loss: 2.2893 - mae: 2.2893 - val_loss: 2.2652 - val_mae: 2.2652\n",
            "Epoch 69/100\n",
            "187/187 [==============================] - 1s 4ms/step - loss: 2.2851 - mae: 2.2851 - val_loss: 2.2640 - val_mae: 2.2640\n",
            "Epoch 70/100\n",
            "187/187 [==============================] - 1s 4ms/step - loss: 2.2912 - mae: 2.2912 - val_loss: 2.3343 - val_mae: 2.3343\n",
            "Epoch 71/100\n",
            "187/187 [==============================] - 1s 4ms/step - loss: 2.2840 - mae: 2.2840 - val_loss: 2.2947 - val_mae: 2.2947\n",
            "Epoch 72/100\n",
            "187/187 [==============================] - 1s 5ms/step - loss: 2.2813 - mae: 2.2813 - val_loss: 2.2629 - val_mae: 2.2629\n",
            "Epoch 73/100\n",
            "187/187 [==============================] - 1s 5ms/step - loss: 2.2843 - mae: 2.2843 - val_loss: 2.2919 - val_mae: 2.2919\n",
            "Epoch 74/100\n",
            "187/187 [==============================] - 1s 5ms/step - loss: 2.2901 - mae: 2.2901 - val_loss: 2.2647 - val_mae: 2.2647\n",
            "Epoch 75/100\n",
            "187/187 [==============================] - 1s 6ms/step - loss: 2.2756 - mae: 2.2756 - val_loss: 2.2711 - val_mae: 2.2711\n",
            "Epoch 76/100\n",
            "187/187 [==============================] - 1s 5ms/step - loss: 2.2743 - mae: 2.2743 - val_loss: 2.3129 - val_mae: 2.3129\n",
            "Epoch 77/100\n",
            "187/187 [==============================] - 1s 4ms/step - loss: 2.2784 - mae: 2.2784 - val_loss: 2.2586 - val_mae: 2.2586\n",
            "Epoch 78/100\n",
            "187/187 [==============================] - 1s 4ms/step - loss: 2.2767 - mae: 2.2767 - val_loss: 2.2930 - val_mae: 2.2930\n",
            "Epoch 79/100\n",
            "187/187 [==============================] - 1s 4ms/step - loss: 2.2800 - mae: 2.2800 - val_loss: 2.2622 - val_mae: 2.2622\n",
            "Epoch 80/100\n",
            "187/187 [==============================] - 1s 4ms/step - loss: 2.2807 - mae: 2.2807 - val_loss: 2.2923 - val_mae: 2.2923\n",
            "Epoch 81/100\n",
            "187/187 [==============================] - 1s 4ms/step - loss: 2.2780 - mae: 2.2780 - val_loss: 2.2520 - val_mae: 2.2520\n",
            "Epoch 82/100\n",
            "187/187 [==============================] - 1s 4ms/step - loss: 2.2951 - mae: 2.2951 - val_loss: 2.2650 - val_mae: 2.2650\n",
            "Epoch 83/100\n",
            "187/187 [==============================] - 1s 4ms/step - loss: 2.2744 - mae: 2.2744 - val_loss: 2.2803 - val_mae: 2.2803\n",
            "Epoch 84/100\n",
            "187/187 [==============================] - 1s 4ms/step - loss: 2.2819 - mae: 2.2819 - val_loss: 2.2996 - val_mae: 2.2996\n",
            "Epoch 85/100\n",
            "187/187 [==============================] - 1s 4ms/step - loss: 2.2781 - mae: 2.2781 - val_loss: 2.2626 - val_mae: 2.2626\n",
            "Epoch 86/100\n",
            "187/187 [==============================] - 1s 4ms/step - loss: 2.2760 - mae: 2.2760 - val_loss: 2.2675 - val_mae: 2.2675\n",
            "Epoch 87/100\n",
            "187/187 [==============================] - 1s 4ms/step - loss: 2.2906 - mae: 2.2906 - val_loss: 2.2744 - val_mae: 2.2744\n",
            "Epoch 88/100\n",
            "187/187 [==============================] - 1s 4ms/step - loss: 2.2817 - mae: 2.2817 - val_loss: 2.4046 - val_mae: 2.4046\n",
            "Epoch 89/100\n",
            "187/187 [==============================] - 1s 5ms/step - loss: 2.2930 - mae: 2.2930 - val_loss: 2.2705 - val_mae: 2.2705\n",
            "Epoch 90/100\n",
            "187/187 [==============================] - 1s 6ms/step - loss: 2.2815 - mae: 2.2815 - val_loss: 2.2799 - val_mae: 2.2799\n",
            "Epoch 91/100\n",
            "187/187 [==============================] - 1s 6ms/step - loss: 2.2734 - mae: 2.2734 - val_loss: 2.2576 - val_mae: 2.2576\n",
            "Epoch 92/100\n",
            "187/187 [==============================] - 1s 6ms/step - loss: 2.2772 - mae: 2.2772 - val_loss: 2.2897 - val_mae: 2.2897\n",
            "Epoch 93/100\n",
            "187/187 [==============================] - 1s 4ms/step - loss: 2.2809 - mae: 2.2809 - val_loss: 2.2697 - val_mae: 2.2697\n",
            "Epoch 94/100\n",
            "187/187 [==============================] - 1s 4ms/step - loss: 2.2776 - mae: 2.2776 - val_loss: 2.2550 - val_mae: 2.2550\n",
            "Epoch 95/100\n",
            "187/187 [==============================] - 1s 4ms/step - loss: 2.2773 - mae: 2.2773 - val_loss: 2.2572 - val_mae: 2.2572\n",
            "Epoch 96/100\n",
            "187/187 [==============================] - 1s 4ms/step - loss: 2.2748 - mae: 2.2748 - val_loss: 2.2558 - val_mae: 2.2558\n",
            "Epoch 97/100\n",
            "187/187 [==============================] - 1s 4ms/step - loss: 2.2702 - mae: 2.2702 - val_loss: 2.2644 - val_mae: 2.2644\n",
            "Epoch 98/100\n",
            "187/187 [==============================] - 1s 4ms/step - loss: 2.2765 - mae: 2.2765 - val_loss: 2.2650 - val_mae: 2.2650\n",
            "Epoch 99/100\n",
            "187/187 [==============================] - 1s 4ms/step - loss: 2.2705 - mae: 2.2705 - val_loss: 2.2643 - val_mae: 2.2643\n",
            "Epoch 100/100\n",
            "187/187 [==============================] - 1s 4ms/step - loss: 2.2708 - mae: 2.2708 - val_loss: 2.2648 - val_mae: 2.2648\n"
          ]
        }
      ],
      "source": [
        "x = df.drop('fare_amount', axis=1)\n",
        "y = df['fare_amount']\n",
        "\n",
        "hist = model.fit(x, y, validation_split=0.2, epochs=100, batch_size=100)"
      ]
    },
    {
      "cell_type": "code",
      "execution_count": 11,
      "metadata": {
        "id": "e_9xA_bqNfQN",
        "outputId": "5335e8d0-2db2-45bb-da5c-bff4f5f7646e",
        "colab": {
          "base_uri": "https://localhost:8080/",
          "height": 497
        }
      },
      "outputs": [
        {
          "output_type": "execute_result",
          "data": {
            "text/plain": [
              "[]"
            ]
          },
          "metadata": {},
          "execution_count": 11
        },
        {
          "output_type": "display_data",
          "data": {
            "text/plain": [
              "<Figure size 640x480 with 1 Axes>"
            ],
            "image/png": "[encoded data removed]"
          },
          "metadata": {}
        }
      ],
      "source": [
        "%matplotlib inline\n",
        "import matplotlib.pyplot as plt\n",
        "import seaborn as sns\n",
        "sns.set()\n",
        "\n",
        "err = hist.history['mae']\n",
        "val_err = hist.history['val_mae']\n",
        "epochs = range(1, len(err) + 1)\n",
        "\n",
        "plt.plot(epochs, err, '-', label='Training MAE')\n",
        "plt.plot(epochs, val_err, ':', label='Validation MAE')\n",
        "plt.title('Training and Validation Accuracy')\n",
        "plt.xlabel('Epoch')\n",
        "plt.ylabel('Mean Absolute Error')\n",
        "plt.legend(loc='upper right')\n",
        "plt.plot()"
      ]
    },
    {
      "cell_type": "markdown",
      "metadata": {
        "id": "uoMuqoELNfQN"
      },
      "source": [
        "## Make some predictions:\n",
        "\n",
        "Take a look at the $r^2$ score for our dataset:"
      ]
    },
    {
      "cell_type": "code",
      "execution_count": 12,
      "metadata": {
        "id": "VZDMG8P_NfQN",
        "outputId": "7919969e-d973-41d5-f4d7-4c3e6a7155c3",
        "colab": {
          "base_uri": "https://localhost:8080/"
        }
      },
      "outputs": [
        {
          "output_type": "stream",
          "name": "stdout",
          "text": [
            "729/729 [==============================] - 1s 2ms/step\n"
          ]
        },
        {
          "output_type": "execute_result",
          "data": {
            "text/plain": [
              "0.74039845622792"
            ]
          },
          "metadata": {},
          "execution_count": 12
        }
      ],
      "source": [
        "from sklearn.metrics import r2_score\n",
        "\n",
        "r2_score(y, model.predict(x))"
      ]
    },
    {
      "cell_type": "markdown",
      "metadata": {
        "id": "n93VyqOnNfQN"
      },
      "source": [
        "Estimate what it will cost to hire a taxi for a 2-mile trip at 5:00pm on a Friday afternoon:\n",
        "- day of the week `[ Monday:0, Tuesday:1, Wednesday:2, Thursday:3, Friday:4, Saturday:5, Sunday:6]`\n",
        "- time, military time\n",
        "- distance in miles"
      ]
    },
    {
      "cell_type": "code",
      "execution_count": 13,
      "metadata": {
        "id": "pCB7oy1WNfQN",
        "outputId": "2b5774e3-b764-4e58-b286-6e9e6428fec4",
        "colab": {
          "base_uri": "https://localhost:8080/"
        }
      },
      "outputs": [
        {
          "output_type": "stream",
          "name": "stdout",
          "text": [
            "1/1 [==============================] - 0s 50ms/step\n"
          ]
        },
        {
          "output_type": "execute_result",
          "data": {
            "text/plain": [
              "array([[10.282587]], dtype=float32)"
            ]
          },
          "metadata": {},
          "execution_count": 13
        }
      ],
      "source": [
        "import numpy as np\n",
        "\n",
        "# day of the week, time, and distance\n",
        "model.predict(np.array([[4, 17, 2.0]]))"
      ]
    },
    {
      "cell_type": "markdown",
      "metadata": {
        "id": "mWqBmWqKNfQO"
      },
      "source": [
        "What about the same 20mile trip at 5pm on a Saturday?"
      ]
    },
    {
      "cell_type": "code",
      "execution_count": 17,
      "metadata": {
        "id": "SFG6tcoENfQO",
        "outputId": "a37eb540-a243-415f-a531-5ec8d07b381e",
        "colab": {
          "base_uri": "https://localhost:8080/"
        }
      },
      "outputs": [
        {
          "output_type": "stream",
          "name": "stdout",
          "text": [
            "1/1 [==============================] - 0s 31ms/step\n"
          ]
        },
        {
          "output_type": "execute_result",
          "data": {
            "text/plain": [
              "array([[9.765548]], dtype=float32)"
            ]
          },
          "metadata": {},
          "execution_count": 17
        }
      ],
      "source": [
        "model.predict(np.array([[5, 22, 2.0]]))"
      ]
    },
    {
      "cell_type": "markdown",
      "metadata": {
        "id": "J1CaSpTnNfQO"
      },
      "source": [
        "# Iris Dataset with Keras"
      ]
    },
    {
      "cell_type": "code",
      "execution_count": null,
      "metadata": {
        "id": "yUVDDeIeNfQO",
        "outputId": "6f6023a9-d5a3-4572-a12e-72ba943fea17"
      },
      "outputs": [
        {
          "name": "stderr",
          "output_type": "stream",
          "text": [
            "Using TensorFlow backend.\n"
          ]
        }
      ],
      "source": [
        "import warnings\n",
        "warnings.simplefilter(action='ignore', category=FutureWarning)\n",
        "warnings.simplefilter(action='ignore', category=DeprecationWarning)\n",
        "\n",
        "from keras.models import Sequential\n",
        "from keras.layers import Dense\n",
        "\n",
        "from sklearn.datasets import load_iris\n",
        "from sklearn.model_selection import train_test_split\n",
        "from sklearn.preprocessing import OneHotEncoder, StandardScaler\n",
        "import numpy\n",
        "\n",
        "# we're going to use the iris dataset, but load it from sklearn \n",
        "iris = load_iris()\n",
        "X = iris['data']\n",
        "y = iris['target']\n",
        "names = iris['target_names']\n",
        "feature_names = iris['feature_names']\n",
        "\n",
        "# One hot encoding\n",
        "enc = OneHotEncoder()\n",
        "Y = enc.fit_transform(y[:, numpy.newaxis]).toarray()\n",
        "\n",
        "# Split the data set into training and testing\n",
        "X_train, X_test, Y_train, Y_test = train_test_split(X, Y, test_size=0.2, random_state=2)\n",
        "\n",
        "#normalize the data\n",
        "scaler = StandardScaler()\n",
        "scaler.fit(X_train)\n",
        "X_train_norm = scaler.transform(X_train)\n",
        "X_test_norm = scaler.transform(X_test)"
      ]
    },
    {
      "cell_type": "code",
      "execution_count": null,
      "metadata": {
        "id": "3zm2E4RgNfQO",
        "outputId": "f493ac6c-38a3-473f-959b-c71b164a2ae7"
      },
      "outputs": [
        {
          "name": "stdout",
          "output_type": "stream",
          "text": [
            "[ 0.37346331 -0.58519388  0.54075378  0.74234434]\n",
            "[0. 0. 1.]\n"
          ]
        }
      ],
      "source": [
        "# display a row of data\n",
        "print(X_train_norm[0,:])\n",
        "print(Y_train[0,:])"
      ]
    },
    {
      "cell_type": "code",
      "execution_count": null,
      "metadata": {
        "id": "zU2guseYNfQP",
        "outputId": "dc6294b7-576f-4f4c-d4c4-ebd5fa3b56d0"
      },
      "outputs": [
        {
          "name": "stdout",
          "output_type": "stream",
          "text": [
            "Model: \"iris_1\"\n",
            "_________________________________________________________________\n",
            "Layer (type)                 Output Shape              Param #   \n",
            "=================================================================\n",
            "dense_1 (Dense)              (None, 6)                 30        \n",
            "_________________________________________________________________\n",
            "dense_2 (Dense)              (None, 6)                 42        \n",
            "_________________________________________________________________\n",
            "dense_3 (Dense)              (None, 4)                 28        \n",
            "_________________________________________________________________\n",
            "dense_4 (Dense)              (None, 3)                 15        \n",
            "=================================================================\n",
            "Total params: 115\n",
            "Trainable params: 115\n",
            "Non-trainable params: 0\n",
            "_________________________________________________________________\n"
          ]
        }
      ],
      "source": [
        "#build our neural network model\n",
        "n_features = X.shape[1] #X generally stands for our predictors\n",
        "n_classes = Y.shape[1] #Y generally stands for our target\n",
        "\n",
        "model = Sequential(name='iris_1')\n",
        "model.add(Dense(6, input_dim=n_features, activation='relu'))\n",
        "model.add(Dense(6, activation='relu'))\n",
        "model.add(Dense(4, activation='relu'))\n",
        "model.add(Dense(n_classes, activation='softmax'))\n",
        "\n",
        "from sklearn.metrics import r2_score\n",
        "\n",
        "# Compile model\n",
        "model.compile(loss='mean_squared_error',\n",
        "              optimizer='sgd', \n",
        "              metrics=['accuracy'])\n",
        "model.summary()"
      ]
    },
    {
      "cell_type": "code",
      "execution_count": null,
      "metadata": {
        "id": "mgpFungbNfQP",
        "outputId": "bf8c763e-5080-411d-b394-a5958e9ec406"
      },
      "outputs": [
        {
          "name": "stdout",
          "output_type": "stream",
          "text": [
            "Train on 96 samples, validate on 24 samples\n",
            "Epoch 1/100\n",
            "96/96 [==============================] - 0s 4ms/step - loss: 0.2188 - accuracy: 0.3750 - val_loss: 0.2369 - val_accuracy: 0.2500\n",
            "Epoch 2/100\n",
            "96/96 [==============================] - 0s 138us/step - loss: 0.2182 - accuracy: 0.3750 - val_loss: 0.2361 - val_accuracy: 0.2500\n",
            "Epoch 3/100\n",
            "96/96 [==============================] - 0s 154us/step - loss: 0.2175 - accuracy: 0.3750 - val_loss: 0.2354 - val_accuracy: 0.2500\n",
            "Epoch 4/100\n",
            "96/96 [==============================] - 0s 190us/step - loss: 0.2169 - accuracy: 0.3750 - val_loss: 0.2345 - val_accuracy: 0.2500\n",
            "Epoch 5/100\n",
            "96/96 [==============================] - 0s 208us/step - loss: 0.2163 - accuracy: 0.3750 - val_loss: 0.2337 - val_accuracy: 0.2500\n",
            "Epoch 6/100\n",
            "96/96 [==============================] - 0s 201us/step - loss: 0.2157 - accuracy: 0.3750 - val_loss: 0.2330 - val_accuracy: 0.2500\n",
            "Epoch 7/100\n",
            "96/96 [==============================] - 0s 206us/step - loss: 0.2151 - accuracy: 0.3750 - val_loss: 0.2322 - val_accuracy: 0.2500\n",
            "Epoch 8/100\n",
            "96/96 [==============================] - 0s 196us/step - loss: 0.2145 - accuracy: 0.3750 - val_loss: 0.2314 - val_accuracy: 0.2500\n",
            "Epoch 9/100\n",
            "96/96 [==============================] - 0s 195us/step - loss: 0.2139 - accuracy: 0.3750 - val_loss: 0.2306 - val_accuracy: 0.2500\n",
            "Epoch 10/100\n",
            "96/96 [==============================] - 0s 198us/step - loss: 0.2133 - accuracy: 0.3750 - val_loss: 0.2299 - val_accuracy: 0.2500\n",
            "Epoch 11/100\n",
            "96/96 [==============================] - 0s 209us/step - loss: 0.2127 - accuracy: 0.3750 - val_loss: 0.2291 - val_accuracy: 0.2500\n",
            "Epoch 12/100\n",
            "96/96 [==============================] - 0s 203us/step - loss: 0.2121 - accuracy: 0.3750 - val_loss: 0.2284 - val_accuracy: 0.2500\n",
            "Epoch 13/100\n",
            "96/96 [==============================] - 0s 199us/step - loss: 0.2116 - accuracy: 0.3750 - val_loss: 0.2278 - val_accuracy: 0.2500\n",
            "Epoch 14/100\n",
            "96/96 [==============================] - 0s 185us/step - loss: 0.2111 - accuracy: 0.3646 - val_loss: 0.2272 - val_accuracy: 0.2500\n",
            "Epoch 15/100\n",
            "96/96 [==============================] - 0s 193us/step - loss: 0.2106 - accuracy: 0.3542 - val_loss: 0.2265 - val_accuracy: 0.2500\n",
            "Epoch 16/100\n",
            "96/96 [==============================] - 0s 201us/step - loss: 0.2100 - accuracy: 0.3646 - val_loss: 0.2258 - val_accuracy: 0.2500\n",
            "Epoch 17/100\n",
            "96/96 [==============================] - 0s 191us/step - loss: 0.2095 - accuracy: 0.3750 - val_loss: 0.2253 - val_accuracy: 0.2500\n",
            "Epoch 18/100\n",
            "96/96 [==============================] - 0s 191us/step - loss: 0.2091 - accuracy: 0.3646 - val_loss: 0.2247 - val_accuracy: 0.2500\n",
            "Epoch 19/100\n",
            "96/96 [==============================] - 0s 201us/step - loss: 0.2085 - accuracy: 0.3646 - val_loss: 0.2240 - val_accuracy: 0.3750\n",
            "Epoch 20/100\n",
            "96/96 [==============================] - 0s 197us/step - loss: 0.2080 - accuracy: 0.3542 - val_loss: 0.2233 - val_accuracy: 0.3333\n",
            "Epoch 21/100\n",
            "96/96 [==============================] - 0s 188us/step - loss: 0.2075 - accuracy: 0.3854 - val_loss: 0.2227 - val_accuracy: 0.2917\n",
            "Epoch 22/100\n",
            "96/96 [==============================] - 0s 195us/step - loss: 0.2070 - accuracy: 0.3958 - val_loss: 0.2220 - val_accuracy: 0.3333\n",
            "Epoch 23/100\n",
            "96/96 [==============================] - 0s 211us/step - loss: 0.2064 - accuracy: 0.4167 - val_loss: 0.2215 - val_accuracy: 0.3333\n",
            "Epoch 24/100\n",
            "96/96 [==============================] - 0s 201us/step - loss: 0.2060 - accuracy: 0.4271 - val_loss: 0.2209 - val_accuracy: 0.3750\n",
            "Epoch 25/100\n",
            "96/96 [==============================] - 0s 231us/step - loss: 0.2055 - accuracy: 0.4271 - val_loss: 0.2203 - val_accuracy: 0.4167\n",
            "Epoch 26/100\n",
            "96/96 [==============================] - 0s 306us/step - loss: 0.2050 - accuracy: 0.5208 - val_loss: 0.2197 - val_accuracy: 0.4583\n",
            "Epoch 27/100\n",
            "96/96 [==============================] - 0s 282us/step - loss: 0.2045 - accuracy: 0.5312 - val_loss: 0.2190 - val_accuracy: 0.4167\n",
            "Epoch 28/100\n",
            "96/96 [==============================] - 0s 288us/step - loss: 0.2040 - accuracy: 0.5208 - val_loss: 0.2184 - val_accuracy: 0.3750\n",
            "Epoch 29/100\n",
            "96/96 [==============================] - 0s 273us/step - loss: 0.2035 - accuracy: 0.5104 - val_loss: 0.2178 - val_accuracy: 0.3750\n",
            "Epoch 30/100\n",
            "96/96 [==============================] - 0s 235us/step - loss: 0.2030 - accuracy: 0.5000 - val_loss: 0.2173 - val_accuracy: 0.3750\n",
            "Epoch 31/100\n",
            "96/96 [==============================] - 0s 217us/step - loss: 0.2026 - accuracy: 0.5000 - val_loss: 0.2168 - val_accuracy: 0.3750\n",
            "Epoch 32/100\n",
            "96/96 [==============================] - 0s 213us/step - loss: 0.2022 - accuracy: 0.5000 - val_loss: 0.2162 - val_accuracy: 0.3750\n",
            "Epoch 33/100\n",
            "96/96 [==============================] - 0s 243us/step - loss: 0.2017 - accuracy: 0.5000 - val_loss: 0.2156 - val_accuracy: 0.3750\n",
            "Epoch 34/100\n",
            "96/96 [==============================] - 0s 249us/step - loss: 0.2012 - accuracy: 0.5104 - val_loss: 0.2150 - val_accuracy: 0.3750\n",
            "Epoch 35/100\n",
            "96/96 [==============================] - 0s 248us/step - loss: 0.2007 - accuracy: 0.5104 - val_loss: 0.2145 - val_accuracy: 0.3750\n",
            "Epoch 36/100\n",
            "96/96 [==============================] - 0s 207us/step - loss: 0.2003 - accuracy: 0.4792 - val_loss: 0.2139 - val_accuracy: 0.3750\n",
            "Epoch 37/100\n",
            "96/96 [==============================] - 0s 221us/step - loss: 0.1998 - accuracy: 0.5000 - val_loss: 0.2133 - val_accuracy: 0.3750\n",
            "Epoch 38/100\n",
            "96/96 [==============================] - 0s 195us/step - loss: 0.1993 - accuracy: 0.4896 - val_loss: 0.2127 - val_accuracy: 0.3750\n",
            "Epoch 39/100\n",
            "96/96 [==============================] - 0s 200us/step - loss: 0.1988 - accuracy: 0.5000 - val_loss: 0.2122 - val_accuracy: 0.3750\n",
            "Epoch 40/100\n",
            "96/96 [==============================] - 0s 253us/step - loss: 0.1984 - accuracy: 0.5000 - val_loss: 0.2117 - val_accuracy: 0.3750\n",
            "Epoch 41/100\n",
            "96/96 [==============================] - 0s 237us/step - loss: 0.1979 - accuracy: 0.5000 - val_loss: 0.2112 - val_accuracy: 0.3750\n",
            "Epoch 42/100\n",
            "96/96 [==============================] - 0s 193us/step - loss: 0.1975 - accuracy: 0.4688 - val_loss: 0.2107 - val_accuracy: 0.3750\n",
            "Epoch 43/100\n",
            "96/96 [==============================] - 0s 185us/step - loss: 0.1971 - accuracy: 0.5104 - val_loss: 0.2101 - val_accuracy: 0.3750\n",
            "Epoch 44/100\n",
            "96/96 [==============================] - 0s 187us/step - loss: 0.1966 - accuracy: 0.5312 - val_loss: 0.2094 - val_accuracy: 0.3750\n",
            "Epoch 45/100\n",
            "96/96 [==============================] - 0s 193us/step - loss: 0.1960 - accuracy: 0.5104 - val_loss: 0.2088 - val_accuracy: 0.3750\n",
            "Epoch 46/100\n",
            "96/96 [==============================] - 0s 206us/step - loss: 0.1956 - accuracy: 0.5312 - val_loss: 0.2082 - val_accuracy: 0.3750\n",
            "Epoch 47/100\n",
            "96/96 [==============================] - 0s 209us/step - loss: 0.1950 - accuracy: 0.5208 - val_loss: 0.2076 - val_accuracy: 0.3750\n",
            "Epoch 48/100\n",
            "96/96 [==============================] - 0s 208us/step - loss: 0.1945 - accuracy: 0.5000 - val_loss: 0.2070 - val_accuracy: 0.3750\n",
            "Epoch 49/100\n",
            "96/96 [==============================] - 0s 190us/step - loss: 0.1940 - accuracy: 0.4896 - val_loss: 0.2065 - val_accuracy: 0.3750\n",
            "Epoch 50/100\n",
            "96/96 [==============================] - 0s 195us/step - loss: 0.1935 - accuracy: 0.5000 - val_loss: 0.2059 - val_accuracy: 0.4167\n",
            "Epoch 51/100\n",
            "96/96 [==============================] - 0s 200us/step - loss: 0.1930 - accuracy: 0.4792 - val_loss: 0.2053 - val_accuracy: 0.4167\n",
            "Epoch 52/100\n",
            "96/96 [==============================] - 0s 200us/step - loss: 0.1925 - accuracy: 0.5104 - val_loss: 0.2047 - val_accuracy: 0.4583\n",
            "Epoch 53/100\n",
            "96/96 [==============================] - 0s 191us/step - loss: 0.1920 - accuracy: 0.5208 - val_loss: 0.2041 - val_accuracy: 0.5000\n",
            "Epoch 54/100\n",
            "96/96 [==============================] - 0s 201us/step - loss: 0.1915 - accuracy: 0.5000 - val_loss: 0.2036 - val_accuracy: 0.5000\n",
            "Epoch 55/100\n",
            "96/96 [==============================] - 0s 195us/step - loss: 0.1910 - accuracy: 0.5521 - val_loss: 0.2030 - val_accuracy: 0.5000\n",
            "Epoch 56/100\n",
            "96/96 [==============================] - 0s 201us/step - loss: 0.1905 - accuracy: 0.5417 - val_loss: 0.2025 - val_accuracy: 0.5000\n",
            "Epoch 57/100\n",
            "96/96 [==============================] - 0s 201us/step - loss: 0.1900 - accuracy: 0.5521 - val_loss: 0.2019 - val_accuracy: 0.5417\n",
            "Epoch 58/100\n",
            "96/96 [==============================] - 0s 203us/step - loss: 0.1895 - accuracy: 0.5625 - val_loss: 0.2013 - val_accuracy: 0.5417\n",
            "Epoch 59/100\n",
            "96/96 [==============================] - 0s 201us/step - loss: 0.1890 - accuracy: 0.5833 - val_loss: 0.2007 - val_accuracy: 0.5417\n",
            "Epoch 60/100\n",
            "96/96 [==============================] - 0s 209us/step - loss: 0.1885 - accuracy: 0.5521 - val_loss: 0.2002 - val_accuracy: 0.5833\n",
            "Epoch 61/100\n",
            "96/96 [==============================] - 0s 217us/step - loss: 0.1880 - accuracy: 0.5625 - val_loss: 0.1997 - val_accuracy: 0.5833\n",
            "Epoch 62/100\n",
            "96/96 [==============================] - 0s 207us/step - loss: 0.1876 - accuracy: 0.5729 - val_loss: 0.1992 - val_accuracy: 0.5833\n",
            "Epoch 63/100\n",
            "96/96 [==============================] - 0s 198us/step - loss: 0.1870 - accuracy: 0.5833 - val_loss: 0.1986 - val_accuracy: 0.5833\n",
            "Epoch 64/100\n",
            "96/96 [==============================] - 0s 196us/step - loss: 0.1865 - accuracy: 0.5833 - val_loss: 0.1981 - val_accuracy: 0.5833\n",
            "Epoch 65/100\n",
            "96/96 [==============================] - 0s 202us/step - loss: 0.1861 - accuracy: 0.6042 - val_loss: 0.1976 - val_accuracy: 0.5833\n",
            "Epoch 66/100\n",
            "96/96 [==============================] - 0s 180us/step - loss: 0.1855 - accuracy: 0.6146 - val_loss: 0.1969 - val_accuracy: 0.5833\n",
            "Epoch 67/100\n",
            "96/96 [==============================] - 0s 173us/step - loss: 0.1850 - accuracy: 0.6042 - val_loss: 0.1964 - val_accuracy: 0.5833\n",
            "Epoch 68/100\n",
            "96/96 [==============================] - 0s 192us/step - loss: 0.1845 - accuracy: 0.6042 - val_loss: 0.1959 - val_accuracy: 0.5833\n",
            "Epoch 69/100\n",
            "96/96 [==============================] - 0s 181us/step - loss: 0.1840 - accuracy: 0.6146 - val_loss: 0.1953 - val_accuracy: 0.5833\n",
            "Epoch 70/100\n",
            "96/96 [==============================] - 0s 167us/step - loss: 0.1834 - accuracy: 0.6146 - val_loss: 0.1947 - val_accuracy: 0.6250\n",
            "Epoch 71/100\n",
            "96/96 [==============================] - 0s 174us/step - loss: 0.1829 - accuracy: 0.6042 - val_loss: 0.1940 - val_accuracy: 0.6250\n",
            "Epoch 72/100\n",
            "96/96 [==============================] - 0s 162us/step - loss: 0.1824 - accuracy: 0.6042 - val_loss: 0.1934 - val_accuracy: 0.6250\n",
            "Epoch 73/100\n",
            "96/96 [==============================] - 0s 173us/step - loss: 0.1818 - accuracy: 0.6042 - val_loss: 0.1927 - val_accuracy: 0.6250\n",
            "Epoch 74/100\n",
            "96/96 [==============================] - 0s 180us/step - loss: 0.1813 - accuracy: 0.6146 - val_loss: 0.1921 - val_accuracy: 0.6250\n",
            "Epoch 75/100\n",
            "96/96 [==============================] - 0s 181us/step - loss: 0.1808 - accuracy: 0.6146 - val_loss: 0.1914 - val_accuracy: 0.6250\n",
            "Epoch 76/100\n",
            "96/96 [==============================] - 0s 177us/step - loss: 0.1802 - accuracy: 0.6354 - val_loss: 0.1908 - val_accuracy: 0.6250\n",
            "Epoch 77/100\n",
            "96/96 [==============================] - 0s 183us/step - loss: 0.1797 - accuracy: 0.6354 - val_loss: 0.1902 - val_accuracy: 0.6250\n",
            "Epoch 78/100\n",
            "96/96 [==============================] - 0s 184us/step - loss: 0.1791 - accuracy: 0.6354 - val_loss: 0.1896 - val_accuracy: 0.6250\n",
            "Epoch 79/100\n",
            "96/96 [==============================] - 0s 176us/step - loss: 0.1786 - accuracy: 0.6458 - val_loss: 0.1890 - val_accuracy: 0.6250\n",
            "Epoch 80/100\n",
            "96/96 [==============================] - 0s 187us/step - loss: 0.1781 - accuracy: 0.6458 - val_loss: 0.1884 - val_accuracy: 0.6250\n",
            "Epoch 81/100\n",
            "96/96 [==============================] - 0s 180us/step - loss: 0.1775 - accuracy: 0.6562 - val_loss: 0.1878 - val_accuracy: 0.6250\n",
            "Epoch 82/100\n",
            "96/96 [==============================] - 0s 186us/step - loss: 0.1770 - accuracy: 0.6458 - val_loss: 0.1873 - val_accuracy: 0.6250\n",
            "Epoch 83/100\n",
            "96/96 [==============================] - 0s 189us/step - loss: 0.1765 - accuracy: 0.6562 - val_loss: 0.1868 - val_accuracy: 0.6250\n",
            "Epoch 84/100\n",
            "96/96 [==============================] - 0s 166us/step - loss: 0.1759 - accuracy: 0.6562 - val_loss: 0.1862 - val_accuracy: 0.6250\n",
            "Epoch 85/100\n",
            "96/96 [==============================] - 0s 179us/step - loss: 0.1754 - accuracy: 0.6562 - val_loss: 0.1857 - val_accuracy: 0.6250\n",
            "Epoch 86/100\n",
            "96/96 [==============================] - 0s 169us/step - loss: 0.1750 - accuracy: 0.6667 - val_loss: 0.1852 - val_accuracy: 0.6250\n",
            "Epoch 87/100\n",
            "96/96 [==============================] - 0s 166us/step - loss: 0.1745 - accuracy: 0.6667 - val_loss: 0.1847 - val_accuracy: 0.6250\n",
            "Epoch 88/100\n",
            "96/96 [==============================] - 0s 158us/step - loss: 0.1740 - accuracy: 0.6667 - val_loss: 0.1841 - val_accuracy: 0.6250\n",
            "Epoch 89/100\n",
            "96/96 [==============================] - 0s 158us/step - loss: 0.1734 - accuracy: 0.6667 - val_loss: 0.1836 - val_accuracy: 0.6250\n",
            "Epoch 90/100\n",
            "96/96 [==============================] - 0s 165us/step - loss: 0.1730 - accuracy: 0.6562 - val_loss: 0.1830 - val_accuracy: 0.6250\n",
            "Epoch 91/100\n",
            "96/96 [==============================] - 0s 159us/step - loss: 0.1724 - accuracy: 0.6562 - val_loss: 0.1825 - val_accuracy: 0.6250\n",
            "Epoch 92/100\n",
            "96/96 [==============================] - 0s 165us/step - loss: 0.1719 - accuracy: 0.6562 - val_loss: 0.1819 - val_accuracy: 0.6250\n",
            "Epoch 93/100\n",
            "96/96 [==============================] - 0s 161us/step - loss: 0.1714 - accuracy: 0.6562 - val_loss: 0.1814 - val_accuracy: 0.6250\n",
            "Epoch 94/100\n",
            "96/96 [==============================] - 0s 164us/step - loss: 0.1709 - accuracy: 0.6562 - val_loss: 0.1809 - val_accuracy: 0.6250\n",
            "Epoch 95/100\n",
            "96/96 [==============================] - 0s 159us/step - loss: 0.1705 - accuracy: 0.6562 - val_loss: 0.1804 - val_accuracy: 0.6250\n",
            "Epoch 96/100\n",
            "96/96 [==============================] - 0s 160us/step - loss: 0.1699 - accuracy: 0.6562 - val_loss: 0.1799 - val_accuracy: 0.6250\n",
            "Epoch 97/100\n",
            "96/96 [==============================] - 0s 168us/step - loss: 0.1694 - accuracy: 0.6771 - val_loss: 0.1794 - val_accuracy: 0.6250\n",
            "Epoch 98/100\n",
            "96/96 [==============================] - 0s 173us/step - loss: 0.1689 - accuracy: 0.6667 - val_loss: 0.1789 - val_accuracy: 0.6250\n",
            "Epoch 99/100\n",
            "96/96 [==============================] - 0s 167us/step - loss: 0.1684 - accuracy: 0.6875 - val_loss: 0.1784 - val_accuracy: 0.6250\n",
            "Epoch 100/100\n",
            "96/96 [==============================] - 0s 174us/step - loss: 0.1680 - accuracy: 0.7083 - val_loss: 0.1779 - val_accuracy: 0.6250\n",
            "------------------------------------------------------------------------------------------------------------------------\n",
            "30/30 [==============================] - 0s 40us/step\n",
            "Mean Squared Error: 0.18749573826789856\n",
            "Test accuracy: 0.6000000238418579\n"
          ]
        }
      ],
      "source": [
        "# train the model\n",
        "history = model.fit(X_train_norm, Y_train, validation_split=0.2, batch_size=15, epochs=100) #add verbose = 0 to make output minimal\n",
        "\n",
        "# cross-validation; make predictions and get error\n",
        "print(\"----\"*30)\n",
        "mse, acc =  model.evaluate(X_test_norm, Y_test)\n",
        "print('Mean Squared Error:',mse)\n",
        "print('Test accuracy:', acc)"
      ]
    },
    {
      "cell_type": "markdown",
      "metadata": {
        "id": "qjwNKquxNfQP"
      },
      "source": [
        "## 👀 Take a closer look: "
      ]
    },
    {
      "cell_type": "code",
      "execution_count": null,
      "metadata": {
        "id": "-U7KDH3uNfQP",
        "outputId": "adbff7ef-2cd6-4a71-ac26-1ee762e6ee9b"
      },
      "outputs": [
        {
          "data": {
            "image/png": "[encoded data removed]",
            "text/plain": [
              "<Figure size 432x288 with 1 Axes>"
            ]
          },
          "metadata": {},
          "output_type": "display_data"
        }
      ],
      "source": [
        "import keras\n",
        "from matplotlib import pyplot as plt\n",
        "plt.plot(history.history['accuracy'])\n",
        "plt.plot(history.history['val_accuracy'])\n",
        "plt.title('model accuracy')\n",
        "plt.ylabel('accuracy')\n",
        "plt.xlabel('epoch')\n",
        "plt.legend(['train', 'val'])\n",
        "plt.show()"
      ]
    },
    {
      "cell_type": "code",
      "execution_count": null,
      "metadata": {
        "id": "W2uziRTHNfQP",
        "outputId": "113d4f7a-6d01-409a-d4d9-506c67aca388"
      },
      "outputs": [
        {
          "data": {
            "image/png": "[encoded data removed]",
            "text/plain": [
              "<Figure size 432x288 with 1 Axes>"
            ]
          },
          "metadata": {},
          "output_type": "display_data"
        }
      ],
      "source": [
        "plt.plot(history.history['loss'])\n",
        "plt.plot(history.history['val_loss'])\n",
        "plt.title('model loss')\n",
        "plt.ylabel('loss')\n",
        "plt.xlabel('epoch')\n",
        "plt.legend(['train', 'val'])\n",
        "plt.show()"
      ]
    },
    {
      "cell_type": "markdown",
      "metadata": {
        "id": "pdrjlSXYNfQQ"
      },
      "source": [
        "# Boston Housing Dataset with Keras"
      ]
    },
    {
      "cell_type": "code",
      "execution_count": null,
      "metadata": {
        "id": "okMZybSSNfQQ"
      },
      "outputs": [],
      "source": [
        "from keras.datasets import boston_housing\n",
        "\n",
        "# we're going to use the Bosting housing dataset, but load it from keras \n",
        "housing_data = boston_housing.load_data(test_split=0.2) #it comes with it's own test/train split :) \n",
        "(X_train, Y_train), (X_test, Y_test) = housing_data"
      ]
    },
    {
      "cell_type": "code",
      "execution_count": null,
      "metadata": {
        "id": "GpTLJdwiNfQQ"
      },
      "outputs": [],
      "source": [
        "# normalize the data\n",
        "scaler = StandardScaler()\n",
        "scaler.fit(X_train)\n",
        "X_train_norm = scaler.transform(X_train)\n",
        "X_test_norm = scaler.transform(X_test)"
      ]
    },
    {
      "cell_type": "code",
      "execution_count": null,
      "metadata": {
        "id": "UjqnPJC1NfQQ",
        "outputId": "34120371-3dec-4699-cdf9-b2a461e61c3a"
      },
      "outputs": [
        {
          "name": "stdout",
          "output_type": "stream",
          "text": [
            "Defaulting to user installation because normal site-packages is not writeable\n",
            "Collecting tensorflow_addons\n",
            "  Downloading tensorflow_addons-0.19.0-cp39-cp39-macosx_10_14_x86_64.whl (12.6 MB)\n",
            "\u001b[K     |████████████████████████████████| 12.6 MB 2.3 MB/s eta 0:00:01\n",
            "\u001b[?25hRequirement already satisfied: packaging in /Users/100022114/Library/Python/3.9/lib/python/site-packages (from tensorflow_addons) (21.3)\n",
            "Collecting typeguard>=2.7\n",
            "  Downloading typeguard-3.0.2-py3-none-any.whl (30 kB)\n",
            "Requirement already satisfied: importlib-metadata>=3.6 in /Users/100022114/Library/Python/3.9/lib/python/site-packages (from typeguard>=2.7->tensorflow_addons) (5.0.0)\n",
            "Collecting typing-extensions>=4.4.0\n",
            "  Downloading typing_extensions-4.5.0-py3-none-any.whl (27 kB)\n",
            "Requirement already satisfied: zipp>=0.5 in /Users/100022114/Library/Python/3.9/lib/python/site-packages (from importlib-metadata>=3.6->typeguard>=2.7->tensorflow_addons) (3.10.0)\n",
            "Requirement already satisfied: pyparsing!=3.0.5,>=2.0.2 in /Users/100022114/Library/Python/3.9/lib/python/site-packages (from packaging->tensorflow_addons) (3.0.9)\n",
            "Installing collected packages: typing-extensions, typeguard, tensorflow-addons\n",
            "Successfully installed tensorflow-addons-0.19.0 typeguard-3.0.2 typing-extensions-4.5.0\n",
            "\u001b[33mWARNING: You are using pip version 21.2.4; however, version 23.0.1 is available.\n",
            "You should consider upgrading via the '/Library/Developer/CommandLineTools/usr/bin/python3 -m pip install --upgrade pip' command.\u001b[0m\n"
          ]
        }
      ],
      "source": [
        "### need to execute this to get access to RSquare function\n",
        "!pip3 install tensorflow_addons"
      ]
    },
    {
      "cell_type": "code",
      "execution_count": null,
      "metadata": {
        "id": "udyCgDwCNfQQ",
        "outputId": "6c50aef0-6b51-4e98-ba6c-d51ab2c5b890"
      },
      "outputs": [
        {
          "name": "stdout",
          "output_type": "stream",
          "text": [
            "Model: \"boston_housing1\"\n",
            "_________________________________________________________________\n",
            "Layer (type)                 Output Shape              Param #   \n",
            "=================================================================\n",
            "dense_8 (Dense)              (None, 64)                896       \n",
            "_________________________________________________________________\n",
            "dense_9 (Dense)              (None, 64)                4160      \n",
            "_________________________________________________________________\n",
            "dense_10 (Dense)             (None, 1)                 65        \n",
            "=================================================================\n",
            "Total params: 5,121\n",
            "Trainable params: 5,121\n",
            "Non-trainable params: 0\n",
            "_________________________________________________________________\n"
          ]
        }
      ],
      "source": [
        "from keras import models\n",
        "from keras import layers\n",
        "from tensorflow.keras.losses import MeanSquaredError\n",
        "\n",
        "#from tensorflow_addons.metrics import RSquare\n",
        "\n",
        "#build our model\n",
        "n_features = X_train.shape[1] # get the number of input values for the input layer\n",
        "\n",
        "model = Sequential(name='boston_housing1')   #initialize the model\n",
        "\n",
        "#add some layers. Dense is a fully connected layer\n",
        "model.add(layers.Dense(64, input_dim= n_features, activation='relu'))\n",
        "model.add(layers.Dense(64, activation='relu'))\n",
        "\n",
        "#Since we are doing a regressions, we only want one value as an ouput, so our last layer has a Dense layer with 1 neuron.\n",
        "model.add(layers.Dense(1)) #default activation function is \"linear\"\n",
        "\n",
        "from sklearn.metrics import r2_score\n",
        "# Compile model\n",
        "model.compile(loss='mean_squared_error',\n",
        "              optimizer='sgd', \n",
        "              metrics= [MeanSquaredError()])\n",
        "model.summary()"
      ]
    },
    {
      "cell_type": "code",
      "execution_count": null,
      "metadata": {
        "id": "sqB4F83YNfQQ",
        "outputId": "b1168415-032b-4f3e-fa67-0bd9166f26af"
      },
      "outputs": [
        {
          "name": "stdout",
          "output_type": "stream",
          "text": [
            "Train on 363 samples, validate on 41 samples\n",
            "Epoch 1/50\n",
            "363/363 [==============================] - 0s 920us/step - loss: 339.5691 - mean_squared_error: 334.6230 - val_loss: 277.0962 - val_mean_squared_error: 270.9637\n",
            "Epoch 2/50\n",
            "363/363 [==============================] - 0s 123us/step - loss: 143.3185 - mean_squared_error: 138.8358 - val_loss: 9.1865 - val_mean_squared_error: 9.1472\n",
            "Epoch 3/50\n",
            "363/363 [==============================] - 0s 113us/step - loss: 155.9647 - mean_squared_error: 152.0927 - val_loss: 38.8319 - val_mean_squared_error: 38.4022\n",
            "Epoch 4/50\n",
            "363/363 [==============================] - 0s 106us/step - loss: 73.0007 - mean_squared_error: 72.9385 - val_loss: 23.5059 - val_mean_squared_error: 22.5858\n",
            "Epoch 5/50\n",
            "363/363 [==============================] - 0s 107us/step - loss: 54.8084 - mean_squared_error: 54.6564 - val_loss: 567.3807 - val_mean_squared_error: 561.5779\n",
            "Epoch 6/50\n",
            "363/363 [==============================] - 0s 92us/step - loss: 37.4678 - mean_squared_error: 36.4927 - val_loss: 13.2764 - val_mean_squared_error: 13.0567\n",
            "Epoch 7/50\n",
            "363/363 [==============================] - 0s 103us/step - loss: 17.7903 - mean_squared_error: 17.9176 - val_loss: 28.5576 - val_mean_squared_error: 27.4136\n",
            "Epoch 8/50\n",
            "363/363 [==============================] - 0s 99us/step - loss: 13.0584 - mean_squared_error: 12.6605 - val_loss: 10.0126 - val_mean_squared_error: 9.6845\n",
            "Epoch 9/50\n",
            "363/363 [==============================] - 0s 96us/step - loss: 20.3715 - mean_squared_error: 19.9295 - val_loss: 11.2169 - val_mean_squared_error: 10.7533\n",
            "Epoch 10/50\n",
            "363/363 [==============================] - 0s 91us/step - loss: 12.8033 - mean_squared_error: 12.4178 - val_loss: 11.7583 - val_mean_squared_error: 11.3169\n",
            "Epoch 11/50\n",
            "363/363 [==============================] - 0s 82us/step - loss: 10.7229 - mean_squared_error: 10.6002 - val_loss: 18.5481 - val_mean_squared_error: 18.0415\n",
            "Epoch 12/50\n",
            "363/363 [==============================] - 0s 94us/step - loss: 12.2194 - mean_squared_error: 12.0760 - val_loss: 28.9464 - val_mean_squared_error: 27.7293\n",
            "Epoch 13/50\n",
            "363/363 [==============================] - 0s 93us/step - loss: 15.2778 - mean_squared_error: 14.8109 - val_loss: 9.1398 - val_mean_squared_error: 9.0248\n",
            "Epoch 14/50\n",
            "363/363 [==============================] - 0s 95us/step - loss: 18.1370 - mean_squared_error: 17.9167 - val_loss: 19.6577 - val_mean_squared_error: 18.8418\n",
            "Epoch 15/50\n",
            "363/363 [==============================] - 0s 127us/step - loss: 11.3498 - mean_squared_error: 11.0291 - val_loss: 10.5343 - val_mean_squared_error: 10.1008\n",
            "Epoch 16/50\n",
            "363/363 [==============================] - 0s 131us/step - loss: 13.0827 - mean_squared_error: 15.7142 - val_loss: 578.1927 - val_mean_squared_error: 552.7786\n",
            "Epoch 17/50\n",
            "363/363 [==============================] - 0s 133us/step - loss: 26.1646 - mean_squared_error: 25.5136 - val_loss: 9.0287 - val_mean_squared_error: 8.8960\n",
            "Epoch 18/50\n",
            "363/363 [==============================] - 0s 107us/step - loss: 19.2621 - mean_squared_error: 18.7455 - val_loss: 8.4329 - val_mean_squared_error: 8.2206\n",
            "Epoch 19/50\n",
            "363/363 [==============================] - 0s 121us/step - loss: 10.6157 - mean_squared_error: 10.3691 - val_loss: 10.9577 - val_mean_squared_error: 10.4280\n",
            "Epoch 20/50\n",
            "363/363 [==============================] - 0s 107us/step - loss: 10.7443 - mean_squared_error: 10.4975 - val_loss: 6.5965 - val_mean_squared_error: 6.3901\n",
            "Epoch 21/50\n",
            "363/363 [==============================] - 0s 95us/step - loss: 7.7845 - mean_squared_error: 7.8258 - val_loss: 19.9306 - val_mean_squared_error: 19.0606\n",
            "Epoch 22/50\n",
            "363/363 [==============================] - 0s 100us/step - loss: 11.5395 - mean_squared_error: 11.1801 - val_loss: 5.7071 - val_mean_squared_error: 5.4578\n",
            "Epoch 23/50\n",
            "363/363 [==============================] - 0s 103us/step - loss: 10.2052 - mean_squared_error: 9.9117 - val_loss: 5.5187 - val_mean_squared_error: 5.2787\n",
            "Epoch 24/50\n",
            "363/363 [==============================] - 0s 103us/step - loss: 7.1241 - mean_squared_error: 7.3116 - val_loss: 5.6295 - val_mean_squared_error: 5.5305\n",
            "Epoch 25/50\n",
            "363/363 [==============================] - 0s 100us/step - loss: 6.6888 - mean_squared_error: 6.8979 - val_loss: 22.1208 - val_mean_squared_error: 21.3262\n",
            "Epoch 26/50\n",
            "363/363 [==============================] - 0s 97us/step - loss: 9.3923 - mean_squared_error: 9.1506 - val_loss: 5.5207 - val_mean_squared_error: 5.4563\n",
            "Epoch 27/50\n",
            "363/363 [==============================] - 0s 106us/step - loss: 6.8801 - mean_squared_error: 6.7884 - val_loss: 6.2756 - val_mean_squared_error: 5.9710\n",
            "Epoch 28/50\n",
            "363/363 [==============================] - 0s 119us/step - loss: 8.8288 - mean_squared_error: 8.6245 - val_loss: 7.0518 - val_mean_squared_error: 7.1095\n",
            "Epoch 29/50\n",
            "363/363 [==============================] - 0s 97us/step - loss: 7.7871 - mean_squared_error: 8.0504 - val_loss: 10.8345 - val_mean_squared_error: 10.4019\n",
            "Epoch 30/50\n",
            "363/363 [==============================] - 0s 90us/step - loss: 7.3386 - mean_squared_error: 7.2097 - val_loss: 4.9414 - val_mean_squared_error: 4.8588\n",
            "Epoch 31/50\n",
            "363/363 [==============================] - 0s 95us/step - loss: 6.6793 - mean_squared_error: 6.5178 - val_loss: 4.8848 - val_mean_squared_error: 4.6648\n",
            "Epoch 32/50\n",
            "363/363 [==============================] - 0s 94us/step - loss: 7.9080 - mean_squared_error: 7.6805 - val_loss: 4.7880 - val_mean_squared_error: 4.5871\n",
            "Epoch 33/50\n",
            "363/363 [==============================] - 0s 96us/step - loss: 7.6651 - mean_squared_error: 7.4454 - val_loss: 5.1297 - val_mean_squared_error: 5.0411\n",
            "Epoch 34/50\n",
            "363/363 [==============================] - 0s 89us/step - loss: 7.5490 - mean_squared_error: 7.3921 - val_loss: 6.4453 - val_mean_squared_error: 6.3835\n",
            "Epoch 35/50\n",
            "363/363 [==============================] - 0s 95us/step - loss: 6.7685 - mean_squared_error: 6.5736 - val_loss: 5.0897 - val_mean_squared_error: 5.1108\n",
            "Epoch 36/50\n",
            "363/363 [==============================] - 0s 97us/step - loss: 4.7289 - mean_squared_error: 4.7001 - val_loss: 8.0521 - val_mean_squared_error: 8.0322\n",
            "Epoch 37/50\n",
            "363/363 [==============================] - 0s 91us/step - loss: 5.4809 - mean_squared_error: 5.4121 - val_loss: 5.7986 - val_mean_squared_error: 5.8533\n",
            "Epoch 38/50\n",
            "363/363 [==============================] - 0s 85us/step - loss: 5.3753 - mean_squared_error: 5.2553 - val_loss: 4.6490 - val_mean_squared_error: 4.4172\n",
            "Epoch 39/50\n",
            "363/363 [==============================] - 0s 87us/step - loss: 4.3229 - mean_squared_error: 4.8673 - val_loss: 39.7107 - val_mean_squared_error: 38.0635\n",
            "Epoch 40/50\n",
            "363/363 [==============================] - 0s 86us/step - loss: 8.3199 - mean_squared_error: 8.0756 - val_loss: 4.8778 - val_mean_squared_error: 4.6910\n",
            "Epoch 41/50\n",
            "363/363 [==============================] - 0s 86us/step - loss: 5.5786 - mean_squared_error: 5.9252 - val_loss: 5.0274 - val_mean_squared_error: 5.0700\n",
            "Epoch 42/50\n",
            "363/363 [==============================] - 0s 141us/step - loss: 5.3165 - mean_squared_error: 5.1993 - val_loss: 4.9346 - val_mean_squared_error: 4.7607\n",
            "Epoch 43/50\n",
            "363/363 [==============================] - 0s 88us/step - loss: 4.9405 - mean_squared_error: 4.8039 - val_loss: 6.8213 - val_mean_squared_error: 6.5661\n",
            "Epoch 44/50\n",
            "363/363 [==============================] - 0s 85us/step - loss: 5.1679 - mean_squared_error: 5.0996 - val_loss: 5.8926 - val_mean_squared_error: 5.8803\n",
            "Epoch 45/50\n",
            "363/363 [==============================] - 0s 85us/step - loss: 4.2634 - mean_squared_error: 4.1476 - val_loss: 4.6103 - val_mean_squared_error: 4.4605\n",
            "Epoch 46/50\n",
            "363/363 [==============================] - 0s 82us/step - loss: 4.1485 - mean_squared_error: 4.6869 - val_loss: 8.5375 - val_mean_squared_error: 8.6826\n",
            "Epoch 47/50\n",
            "363/363 [==============================] - 0s 82us/step - loss: 4.8057 - mean_squared_error: 4.7035 - val_loss: 5.0987 - val_mean_squared_error: 5.0204\n",
            "Epoch 48/50\n",
            "363/363 [==============================] - 0s 85us/step - loss: 4.2346 - mean_squared_error: 4.1293 - val_loss: 5.2629 - val_mean_squared_error: 4.9224\n",
            "Epoch 49/50\n",
            "363/363 [==============================] - 0s 87us/step - loss: 4.9755 - mean_squared_error: 5.2393 - val_loss: 4.6568 - val_mean_squared_error: 4.5021\n",
            "Epoch 50/50\n",
            "363/363 [==============================] - 0s 83us/step - loss: 6.8503 - mean_squared_error: 6.7242 - val_loss: 8.2355 - val_mean_squared_error: 8.1094\n",
            "------------------------------------------------------------------------------------------------------------------------\n",
            "102/102 [==============================] - 0s 38us/step\n",
            "MSE: 21.28518190570906\n",
            "Train MSE: 29.3504695892334\n"
          ]
        }
      ],
      "source": [
        "# train the model\n",
        "history = model.fit(X_train_norm, Y_train, epochs=50, validation_split=0.1, batch_size=15, verbose=1)\n",
        "\n",
        "print(\"----\"*30)\n",
        "\n",
        "# cross-validation; make predictions and get error\n",
        "test_mse_score, test_r2_score = model.evaluate(X_test_norm, Y_test)\n",
        "print('MSE:', test_mse_score)\n",
        "print('Train MSE:', test_r2_score)"
      ]
    },
    {
      "cell_type": "code",
      "execution_count": null,
      "metadata": {
        "id": "KiGPENc8NfQQ",
        "outputId": "b82c474a-4ed3-471b-bfea-650e0f40ab60"
      },
      "outputs": [
        {
          "data": {
            "text/plain": [
              "{'val_loss': [277.0961638659966,\n",
              "  9.18645315635495,\n",
              "  38.83192778796685,\n",
              "  23.505930412106398,\n",
              "  567.3806956221417,\n",
              "  13.276411219340998,\n",
              "  28.557579877899915,\n",
              "  10.01264220912282,\n",
              "  11.216922155240686,\n",
              "  11.758271729073874,\n",
              "  18.54806271994986,\n",
              "  28.94640094477956,\n",
              "  9.139760994329684,\n",
              "  19.6576636709818,\n",
              "  10.534279497658334,\n",
              "  578.1927095738853,\n",
              "  9.028669677129606,\n",
              "  8.432899556508879,\n",
              "  10.957671607412943,\n",
              "  6.596450171819547,\n",
              "  19.930601678243498,\n",
              "  5.707115842074883,\n",
              "  5.518697075727509,\n",
              "  5.629531075314778,\n",
              "  22.120823301920076,\n",
              "  5.520665604893754,\n",
              "  6.275612301942779,\n",
              "  7.051820487510867,\n",
              "  10.834539506493545,\n",
              "  4.941427143608651,\n",
              "  4.884824642320958,\n",
              "  4.788042452277207,\n",
              "  5.129653831807579,\n",
              "  6.445313721168332,\n",
              "  5.0897418725781325,\n",
              "  8.052054916940085,\n",
              "  5.798588322430122,\n",
              "  4.648968551217056,\n",
              "  39.7107160614758,\n",
              "  4.877801217683932,\n",
              "  5.027393468996373,\n",
              "  4.934557118066928,\n",
              "  6.8213464167059925,\n",
              "  5.892600431674865,\n",
              "  4.610258230348912,\n",
              "  8.537460617902802,\n",
              "  5.098733523996865,\n",
              "  5.262878260961393,\n",
              "  4.656758299688014,\n",
              "  8.23549519515619],\n",
              " 'val_mean_squared_error': [270.96368408203125,\n",
              "  9.147239685058594,\n",
              "  38.402164459228516,\n",
              "  22.58577537536621,\n",
              "  561.5779418945312,\n",
              "  13.05669116973877,\n",
              "  27.41359519958496,\n",
              "  9.684508323669434,\n",
              "  10.753303527832031,\n",
              "  11.316902160644531,\n",
              "  18.041549682617188,\n",
              "  27.729318618774414,\n",
              "  9.024781227111816,\n",
              "  18.841758728027344,\n",
              "  10.100847244262695,\n",
              "  552.7786254882812,\n",
              "  8.896040916442871,\n",
              "  8.220620155334473,\n",
              "  10.427952766418457,\n",
              "  6.390085697174072,\n",
              "  19.060590744018555,\n",
              "  5.457827091217041,\n",
              "  5.278682231903076,\n",
              "  5.530515670776367,\n",
              "  21.326223373413086,\n",
              "  5.456315517425537,\n",
              "  5.971042156219482,\n",
              "  7.109536647796631,\n",
              "  10.401874542236328,\n",
              "  4.858802795410156,\n",
              "  4.664839267730713,\n",
              "  4.58709192276001,\n",
              "  5.04112434387207,\n",
              "  6.383495807647705,\n",
              "  5.110773086547852,\n",
              "  8.03218936920166,\n",
              "  5.85333776473999,\n",
              "  4.41724157333374,\n",
              "  38.063480377197266,\n",
              "  4.69096040725708,\n",
              "  5.070046424865723,\n",
              "  4.760659694671631,\n",
              "  6.566092014312744,\n",
              "  5.880309581756592,\n",
              "  4.460546016693115,\n",
              "  8.682623863220215,\n",
              "  5.020425319671631,\n",
              "  4.922382354736328,\n",
              "  4.502111911773682,\n",
              "  8.109389305114746],\n",
              " 'loss': [339.56911077578206,\n",
              "  143.31851974794688,\n",
              "  155.9647419354147,\n",
              "  73.00066456912963,\n",
              "  54.80835433833855,\n",
              "  37.46777082868844,\n",
              "  17.790313856660827,\n",
              "  13.058372648294307,\n",
              "  20.371473580352532,\n",
              "  12.803334634658718,\n",
              "  10.722900532493906,\n",
              "  12.219416096190775,\n",
              "  15.277814664623953,\n",
              "  18.13696399404983,\n",
              "  11.349808606234463,\n",
              "  13.082718742780449,\n",
              "  26.164616521724984,\n",
              "  19.262133119520076,\n",
              "  10.615721035594783,\n",
              "  10.744265487371397,\n",
              "  7.784464910995862,\n",
              "  11.539466975395344,\n",
              "  10.20516289462728,\n",
              "  7.124120647257024,\n",
              "  6.688835553886476,\n",
              "  9.392280400291947,\n",
              "  6.88011469230179,\n",
              "  8.8288229437899,\n",
              "  7.787071949194286,\n",
              "  7.338574510960539,\n",
              "  6.679275449642465,\n",
              "  7.907986423693413,\n",
              "  7.66506162556735,\n",
              "  7.548976588840327,\n",
              "  6.768498517757605,\n",
              "  4.728934852544927,\n",
              "  5.480871816311986,\n",
              "  5.375260387570405,\n",
              "  4.322919360862291,\n",
              "  8.319859846564365,\n",
              "  5.5786245076124334,\n",
              "  5.316543878602587,\n",
              "  4.940493502892738,\n",
              "  5.167928301105815,\n",
              "  4.26342151726573,\n",
              "  4.148520843056608,\n",
              "  4.805674564739889,\n",
              "  4.234606340404384,\n",
              "  4.975510556835774,\n",
              "  6.850252117992433],\n",
              " 'mean_squared_error': [334.62302,\n",
              "  138.83585,\n",
              "  152.09271,\n",
              "  72.93852,\n",
              "  54.656406,\n",
              "  36.492744,\n",
              "  17.917566,\n",
              "  12.6605,\n",
              "  19.929464,\n",
              "  12.417777,\n",
              "  10.600177,\n",
              "  12.07601,\n",
              "  14.810946,\n",
              "  17.916666,\n",
              "  11.029113,\n",
              "  15.714156,\n",
              "  25.513638,\n",
              "  18.745491,\n",
              "  10.369072,\n",
              "  10.4974575,\n",
              "  7.8257995,\n",
              "  11.180127,\n",
              "  9.911668,\n",
              "  7.311578,\n",
              "  6.89788,\n",
              "  9.150561,\n",
              "  6.788398,\n",
              "  8.6244545,\n",
              "  8.05036,\n",
              "  7.2097325,\n",
              "  6.517825,\n",
              "  7.680474,\n",
              "  7.4454255,\n",
              "  7.39211,\n",
              "  6.5735874,\n",
              "  4.700142,\n",
              "  5.412138,\n",
              "  5.25534,\n",
              "  4.867265,\n",
              "  8.075642,\n",
              "  5.9251647,\n",
              "  5.199348,\n",
              "  4.803924,\n",
              "  5.0996385,\n",
              "  4.1476183,\n",
              "  4.6868706,\n",
              "  4.703515,\n",
              "  4.129282,\n",
              "  5.2393107,\n",
              "  6.7242413]}"
            ]
          },
          "execution_count": 46,
          "metadata": {},
          "output_type": "execute_result"
        }
      ],
      "source": [
        "history.history #this will show you what was saved in the history variable"
      ]
    },
    {
      "cell_type": "code",
      "execution_count": null,
      "metadata": {
        "id": "x6NW7MONNfQR",
        "outputId": "3122e17c-570d-4ed1-a50c-f29922632f8a"
      },
      "outputs": [
        {
          "data": {
            "image/png": "[encoded data removed]",
            "text/plain": [
              "<Figure size 432x288 with 1 Axes>"
            ]
          },
          "metadata": {},
          "output_type": "display_data"
        }
      ],
      "source": [
        "import pandas\n",
        "#pandas.DataFrame(history.history).plot(figsize=(8,5), title='Boston Housing')\n",
        "#plt.show()\n",
        "\n",
        "import keras\n",
        "from matplotlib import pyplot as plt\n",
        "plt.plot(history.history['loss'])\n",
        "plt.plot(history.history['val_loss'])\n",
        "plt.title('model loss')\n",
        "plt.ylabel('MSE')\n",
        "plt.xlabel('epoch')\n",
        "plt.legend(['train', 'val'])\n",
        "plt.show()"
      ]
    },
    {
      "cell_type": "code",
      "execution_count": null,
      "metadata": {
        "id": "MwrhvE3mNfQR",
        "outputId": "33be7f76-4c14-4451-db91-7a8f102d22fa"
      },
      "outputs": [
        {
          "data": {
            "image/png": "[encoded data removed]",
            "text/plain": [
              "<Figure size 432x288 with 1 Axes>"
            ]
          },
          "metadata": {},
          "output_type": "display_data"
        }
      ],
      "source": [
        "import keras\n",
        "from matplotlib import pyplot as plt\n",
        "plt.plot(history.history['mean_squared_error'])\n",
        "plt.plot(history.history['val_mean_squared_error'])\n",
        "plt.title('model error')\n",
        "plt.ylabel('MSE')\n",
        "plt.xlabel('epoch')\n",
        "plt.legend(['train', 'val'])\n",
        "plt.show()"
      ]
    },
    {
      "cell_type": "markdown",
      "metadata": {
        "id": "1Q1mFeIbNfQR"
      },
      "source": [
        "# 💬 Goup Exercise #2\n",
        "What parameters from the models above do you think you can/should change? \n",
        "\n",
        "\n",
        "Try these\n",
        "- Change the number of neurons in each layer.  \n",
        "- Add a layer to the model.\n",
        "- Change the activation function of the model, [here is the documentation](https://keras.io/api/layers/activations/)\n",
        "- Change the optimizer, [here is the documentation](https://keras.io/api/optimizers/) with a list of options\n",
        "- look at the [metrics](https://keras.io/api/metrics/) try adding another metric."
      ]
    },
    {
      "cell_type": "code",
      "execution_count": null,
      "metadata": {
        "id": "PKa3q-_CNfQR"
      },
      "outputs": [],
      "source": []
    },
    {
      "cell_type": "markdown",
      "metadata": {
        "id": "wIIpSjWTNfQR"
      },
      "source": [
        "# 💬 Goup Exercise #3\n",
        "\n",
        "Try building the following model:\n",
        "<div>\n",
        "<img src=\"https://github.com/merriekay/S23-CS167-Notes/blob/main/images/day19_ann_titanic.png?raw=1\" width=800/>\n",
        "</div>\n",
        "\n"
      ]
    },
    {
      "cell_type": "code",
      "execution_count": null,
      "metadata": {
        "id": "KH0LD2fWNfQR"
      },
      "outputs": [],
      "source": [
        "# load in titanic.csv, and take a subset of the columns ['age', 'sex', 'deck', and 'survived']"
      ]
    },
    {
      "cell_type": "code",
      "execution_count": null,
      "metadata": {
        "id": "HDGNHcD-NfQR"
      },
      "outputs": [],
      "source": [
        "# build your model"
      ]
    },
    {
      "cell_type": "code",
      "execution_count": null,
      "metadata": {
        "id": "bAnri7KONfQS"
      },
      "outputs": [],
      "source": [
        "# train your model"
      ]
    },
    {
      "cell_type": "code",
      "execution_count": null,
      "metadata": {
        "id": "9rAyhWaYNfQS"
      },
      "outputs": [],
      "source": [
        "# make some predictions"
      ]
    }
  ],
  "metadata": {
    "celltoolbar": "Slideshow",
    "kernelspec": {
      "display_name": "Python 3",
      "language": "python",
      "name": "python3"
    },
    "language_info": {
      "codemirror_mode": {
        "name": "ipython",
        "version": 3
      },
      "file_extension": ".py",
      "mimetype": "text/x-python",
      "name": "python",
      "nbconvert_exporter": "python",
      "pygments_lexer": "ipython3",
      "version": "3.6.12"
    },
    "colab": {
      "provenance": [],
      "include_colab_link": true
    },
    "accelerator": "GPU",
    "gpuClass": "standard"
  },
  "nbformat": 4,
  "nbformat_minor": 0
}