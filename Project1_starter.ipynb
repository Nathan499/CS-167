{
  "nbformat": 4,
  "nbformat_minor": 0,
  "metadata": {
    "colab": {
      "name": "Project1_starter.ipynb",
      "provenance": [],
      "include_colab_link": true
    },
    "kernelspec": {
      "name": "python3",
      "display_name": "Python 3"
    }
  },
  "cells": [
    {
      "cell_type": "markdown",
      "metadata": {
        "id": "view-in-github",
        "colab_type": "text"
      },
      "source": [
        "<a href=\"https://colab.research.google.com/github/Nathan499/CS-167/blob/main/Project1_starter.ipynb\" target=\"_parent\"><img src=\"https://colab.research.google.com/assets/colab-badge.svg\" alt=\"Open In Colab\"/></a>"
      ]
    },
    {
      "cell_type": "markdown",
      "metadata": {
        "id": "F9AOhxuO9Vt7"
      },
      "source": [
        "# Project \\#1 Starter Code: \n",
        "Your first step is to decide which dataset you would like to work with for this project. \n",
        "\n",
        "For this project, you will get to choose what dataset you use. The ones we've used in class (other than Iris/Titanic as they're pretty small) are all fair game (wine quality, breast cancer, spotify). \n",
        "\n",
        "Here are some other possibilities--Kaggle has many many more. It might be a good idea to double check with me before grabbing a dataset that's not listed here:\n",
        "- 🥑 [Avocado Prices](https://www.kaggle.com/datasets/neuromusic/avocado-prices)\n",
        "- 🎟️ [Admission to University](https://www.kaggle.com/datasets/akshaydattatraykhare/data-for-admission-in-the-university)\n",
        "- 🏎️ [Speed Dating](https://www.kaggle.com/datasets/whenamancodes/speed-dating)\n",
        "- 🎓 [World University Ranking](https://www.kaggle.com/datasets/whenamancodes/world-university-ranking-2022-2023)\n",
        "- 📸 [Top Instagram Influencers](https://www.kaggle.com/datasets/whenamancodes/top-200-influencers-crushing-on-instagram)\n",
        "- 🌦️ [Weather Prediction](https://www.kaggle.com/datasets/thedevastator/weather-prediction)\n",
        "- 🤑 [Student Monthly Expenses](https://www.kaggle.com/datasets/shariful07/nice-work-thanks-for-share)\n",
        "- 🍺 [Student Alcohol Consumption](https://www.kaggle.com/datasets/uciml/student-alcohol-consumption)\n",
        "- 🏫 [College Score Card](https://www.kaggle.com/datasets/thedevastator/u-s-department-of-education-college-scorecard-da)\n",
        "- 🎮 [IMDB Video Games](https://www.kaggle.com/datasets/muhammadadiltalay/imdb-video-games)\n",
        "- 🎵 [Spotify Recommendation](https://www.kaggle.com/datasets/bricevergnou/spotify-recommendation)"
      ]
    },
    {
      "cell_type": "markdown",
      "source": [
        "# Self-Evaluation:\n",
        "\n",
        "| **Description/Writing** | **I think I deserve** |\n",
        "|-------------------------|-----------------------|\n",
        "| 1: Problem              | 2/2                    |\n",
        "| 2: Data Prep            | 2/2                    |\n",
        "| 3: Research             | /10                   |\n",
        "| 4: Analysis             | /10                   |\n",
        "| 5: Bumps in the Road.   | /1                    |\n",
        "| Total                   | /25                   |"
      ],
      "metadata": {
        "id": "qbd3DvcpK6pD"
      }
    },
    {
      "cell_type": "markdown",
      "source": [
        "# 1. Problem:\n",
        "State the problem you are trying to solve with this machine learning experiment. Include a description of the data, where you got the data, and what you're trying to predict.."
      ],
      "metadata": {
        "id": "WAD00FUzJweA"
      }
    },
    {
      "cell_type": "markdown",
      "source": [
        "I used the IMDB video games data set that was provided for this project. I am going to attempt to predict the ratings that the video games received by IMDB depending the on the year that they were created, the genre of the video game, and also the certification of the video game such as \"PG-13\". \n",
        "\n",
        "Here is the link to the Kaggle dataset that was provided:\n",
        "https://www.kaggle.com/datasets/muhammadadiltalay/imdb-video-games "
      ],
      "metadata": {
        "id": "G1jpZYKEJ1Ao"
      }
    },
    {
      "cell_type": "markdown",
      "source": [
        "# 2. Data Preparation\n",
        "Explain your data preparation. What did you have to do to get your data in shape for your experiments? Why are you certain that you data is clean and prepared for use in your algorithms?"
      ],
      "metadata": {
        "id": "JwzF076lJ3mA"
      }
    },
    {
      "cell_type": "markdown",
      "source": [
        "I started out by loading in the data from my computer but then I had to make sure I got rid of columns that either we could not analyze yet because of the text or just columns that were not needed. Thse columns were the index that they provided, plot, names, and URL columns. I also then eventually subset the data farther to exclude the votes column due to the amount of values missing as well as the formatting that would have had to take place because any value above 999 was a string because it was formatted as '1,017'. I also did not find this column to be useful in trying to predict the rating of the video games. After that I check if there were any missing values and after a long process decided to just drop any missing values in the dataset because there is plenty of entries still present. I then went on to create dummy variables for the certification column that had what the video games was rated such as \"PG-13\". After that I went through the columns that provide for the genre of the video games such as \"adventure\" and make sure I replaced the True and False's with 1 being for True and 0 being for False. I am certain that the data should be prepared for the future use because it should all be numbers that can be use for regression to find the target variable of the video games rating. I then went further and used the StandardScaler and train_test_split features from sklearn to be able to split the data into training and testing and then to normalize it so I would be able to compare the original splits with the normalized data later to see if there is a difference."
      ],
      "metadata": {
        "id": "81CTRbswJ_XJ"
      }
    },
    {
      "cell_type": "code",
      "source": [
        "from google.colab import drive\n",
        "drive.mount('/content/drive')"
      ],
      "metadata": {
        "id": "cELwjPAzHTl4",
        "colab": {
          "base_uri": "https://localhost:8080/"
        },
        "outputId": "c0b7e670-8c0a-4488-bd48-660aaa1bd8a8"
      },
      "execution_count": 1,
      "outputs": [
        {
          "output_type": "stream",
          "name": "stdout",
          "text": [
            "Mounted at /content/drive\n"
          ]
        }
      ]
    },
    {
      "cell_type": "code",
      "source": [
        "from math import nan\n",
        "from numpy import NaN\n",
        "# load and preapre your data here:\n",
        "#importing pandas, splitting method, and standardscalar\n",
        "import pandas as pd\n",
        "from sklearn.model_selection import train_test_split\n",
        "from sklearn.preprocessing import StandardScaler\n",
        "\n",
        "#loading in the data\n",
        "path = '/content/drive/MyDrive/CS 167/imdb-videogames.csv'\n",
        "games = pd.read_csv(path)\n",
        "\n",
        "#Make sure to drop the plot and url columns because not able to analyze text \n",
        "#This drops both the index, names, Plot, and URL columns\n",
        "#Also now dropping votes due to the use of strings for anything above 999 votes\n",
        "games = games[['year', 'certificate', 'rating', 'Action', 'Adventure', 'Comedy', 'Crime', 'Family', 'Fantasy', 'Mystery', 'Sci-Fi', 'Thriller']]\n",
        "games.head()\n",
        "\n",
        "#Removing Missing values\n",
        "games.isna().any()\n",
        "\n",
        "#There are missing values in Year, Certificate, Rating, and Votes\n",
        "games.dropna(inplace = True)\n",
        "\n",
        "\n",
        "#Then create dumby variable (certificate, Genres)\n",
        "#Getting dummy variables for the certificate\n",
        "data = pd.get_dummies(games, columns = ['certificate'])\n",
        "#replacing True and False with 0 and 1's in Genre categories\n",
        "data.Action.replace(True, 1, inplace = True)\n",
        "data.Action.replace(False, 0, inplace = True)\n",
        "#Adventure\n",
        "data.Adventure.replace(True, 1, inplace = True)\n",
        "data.Adventure.replace(False, 0, inplace = True)\n",
        "#Comedy\n",
        "data.Comedy.replace(True, 1, inplace = True)\n",
        "data.Comedy.replace(False, 0, inplace = True)\n",
        "#Crime\n",
        "data.Crime.replace(True, 1, inplace = True)\n",
        "data.Crime.replace(False, 0, inplace = True)\n",
        "#Family\n",
        "data.Family.replace(True, 1, inplace = True)\n",
        "data.Family.replace(False, 0, inplace = True)\n",
        "#Fantasy\n",
        "data.Fantasy.replace(True, 1, inplace = True)\n",
        "data.Fantasy.replace(False, 0, inplace = True)\n",
        "#Mystery\n",
        "data.Mystery.replace(True, 1, inplace = True)\n",
        "data.Mystery.replace(False, 0, inplace = True)\n",
        "#Sci -Fi\n",
        "data['Sci-Fi'].replace(True, 1, inplace = True)\n",
        "data['Sci-Fi'].replace(False, 0, inplace = True)\n",
        "#Thriller\n",
        "data.Thriller.replace(True, 1, inplace = True)\n",
        "data.Thriller.replace(False, 0, inplace = True)\n",
        "\n",
        "\n",
        "#Splitting Testing and Training Datasets\n",
        "target = \"rating\"\n",
        "predictors = data.columns.drop(target)\n",
        "\n",
        "train_data, test_data, train_sln, test_sln = \\\n",
        "    train_test_split(data[predictors], data[target], test_size = 0.2, random_state=41)\n",
        "train_data.head()\n",
        "\n",
        "#Testing to see split in data\n",
        "print(train_data.shape, test_data.shape)\n",
        "\n",
        "#normalizing the data with standardscalar\n",
        "scaler = StandardScaler()\n",
        "scaler.fit(train_data)\n",
        "\n",
        "train_data_normalized = scaler.transform(train_data)\n",
        "test_data_normalized = scaler.transform(test_data)"
      ],
      "metadata": {
        "id": "vv2-3tJlKBCd",
        "outputId": "8b1d0c6a-f6b8-4c53-d6a3-a74737aff678",
        "colab": {
          "base_uri": "https://localhost:8080/",
          "height": 334
        }
      },
      "execution_count": 33,
      "outputs": [
        {
          "output_type": "stream",
          "name": "stdout",
          "text": [
            "(5279, 31) (1320, 31)\n"
          ]
        },
        {
          "output_type": "execute_result",
          "data": {
            "text/plain": [
              "         year  Action  Adventure  Comedy  Crime  Family  Fantasy  Mystery  \\\n",
              "19026  2018.0       0          1       0      0       0        0        1   \n",
              "19448  2014.0       1          0       0      0       0        1        0   \n",
              "15961  2009.0       0          0       0      1       0        0        1   \n",
              "3990   2001.0       1          1       0      0       0        1        0   \n",
              "1731   1997.0       1          1       0      0       0        0        0   \n",
              "\n",
              "       Sci-Fi  Thriller  ...  certificate_MA-13  certificate_MA-17  \\\n",
              "19026       1         0  ...                  0                  0   \n",
              "19448       1         0  ...                  0                  0   \n",
              "15961       0         0  ...                  0                  0   \n",
              "3990        0         0  ...                  0                  0   \n",
              "1731        0         0  ...                  0                  0   \n",
              "\n",
              "       certificate_Not Rated  certificate_PG  certificate_PG-13  \\\n",
              "19026                      0               0                  0   \n",
              "19448                      0               0                  0   \n",
              "15961                      0               0                  0   \n",
              "3990                       0               0                  0   \n",
              "1731                       0               0                  0   \n",
              "\n",
              "       certificate_Passed  certificate_T  certificate_TV-14  \\\n",
              "19026                   0              1                  0   \n",
              "19448                   0              0                  0   \n",
              "15961                   0              0                  0   \n",
              "3990                    0              0                  0   \n",
              "1731                    0              0                  0   \n",
              "\n",
              "       certificate_TV-MA  certificate_Unrated  \n",
              "19026                  0                    0  \n",
              "19448                  0                    0  \n",
              "15961                  0                    0  \n",
              "3990                   0                    0  \n",
              "1731                   0                    0  \n",
              "\n",
              "[5 rows x 31 columns]"
            ],
            "text/html": [
              "\n",
              "  <div id=\"df-0b72741c-b017-4da9-9e88-bc084d410f7c\">\n",
              "    <div class=\"colab-df-container\">\n",
              "      <div>\n",
              "<style scoped>\n",
              "    .dataframe tbody tr th:only-of-type {\n",
              "        vertical-align: middle;\n",
              "    }\n",
              "\n",
              "    .dataframe tbody tr th {\n",
              "        vertical-align: top;\n",
              "    }\n",
              "\n",
              "    .dataframe thead th {\n",
              "        text-align: right;\n",
              "    }\n",
              "</style>\n",
              "<table border=\"1\" class=\"dataframe\">\n",
              "  <thead>\n",
              "    <tr style=\"text-align: right;\">\n",
              "      <th></th>\n",
              "      <th>year</th>\n",
              "      <th>Action</th>\n",
              "      <th>Adventure</th>\n",
              "      <th>Comedy</th>\n",
              "      <th>Crime</th>\n",
              "      <th>Family</th>\n",
              "      <th>Fantasy</th>\n",
              "      <th>Mystery</th>\n",
              "      <th>Sci-Fi</th>\n",
              "      <th>Thriller</th>\n",
              "      <th>...</th>\n",
              "      <th>certificate_MA-13</th>\n",
              "      <th>certificate_MA-17</th>\n",
              "      <th>certificate_Not Rated</th>\n",
              "      <th>certificate_PG</th>\n",
              "      <th>certificate_PG-13</th>\n",
              "      <th>certificate_Passed</th>\n",
              "      <th>certificate_T</th>\n",
              "      <th>certificate_TV-14</th>\n",
              "      <th>certificate_TV-MA</th>\n",
              "      <th>certificate_Unrated</th>\n",
              "    </tr>\n",
              "  </thead>\n",
              "  <tbody>\n",
              "    <tr>\n",
              "      <th>19026</th>\n",
              "      <td>2018.0</td>\n",
              "      <td>0</td>\n",
              "      <td>1</td>\n",
              "      <td>0</td>\n",
              "      <td>0</td>\n",
              "      <td>0</td>\n",
              "      <td>0</td>\n",
              "      <td>1</td>\n",
              "      <td>1</td>\n",
              "      <td>0</td>\n",
              "      <td>...</td>\n",
              "      <td>0</td>\n",
              "      <td>0</td>\n",
              "      <td>0</td>\n",
              "      <td>0</td>\n",
              "      <td>0</td>\n",
              "      <td>0</td>\n",
              "      <td>1</td>\n",
              "      <td>0</td>\n",
              "      <td>0</td>\n",
              "      <td>0</td>\n",
              "    </tr>\n",
              "    <tr>\n",
              "      <th>19448</th>\n",
              "      <td>2014.0</td>\n",
              "      <td>1</td>\n",
              "      <td>0</td>\n",
              "      <td>0</td>\n",
              "      <td>0</td>\n",
              "      <td>0</td>\n",
              "      <td>1</td>\n",
              "      <td>0</td>\n",
              "      <td>1</td>\n",
              "      <td>0</td>\n",
              "      <td>...</td>\n",
              "      <td>0</td>\n",
              "      <td>0</td>\n",
              "      <td>0</td>\n",
              "      <td>0</td>\n",
              "      <td>0</td>\n",
              "      <td>0</td>\n",
              "      <td>0</td>\n",
              "      <td>0</td>\n",
              "      <td>0</td>\n",
              "      <td>0</td>\n",
              "    </tr>\n",
              "    <tr>\n",
              "      <th>15961</th>\n",
              "      <td>2009.0</td>\n",
              "      <td>0</td>\n",
              "      <td>0</td>\n",
              "      <td>0</td>\n",
              "      <td>1</td>\n",
              "      <td>0</td>\n",
              "      <td>0</td>\n",
              "      <td>1</td>\n",
              "      <td>0</td>\n",
              "      <td>0</td>\n",
              "      <td>...</td>\n",
              "      <td>0</td>\n",
              "      <td>0</td>\n",
              "      <td>0</td>\n",
              "      <td>0</td>\n",
              "      <td>0</td>\n",
              "      <td>0</td>\n",
              "      <td>0</td>\n",
              "      <td>0</td>\n",
              "      <td>0</td>\n",
              "      <td>0</td>\n",
              "    </tr>\n",
              "    <tr>\n",
              "      <th>3990</th>\n",
              "      <td>2001.0</td>\n",
              "      <td>1</td>\n",
              "      <td>1</td>\n",
              "      <td>0</td>\n",
              "      <td>0</td>\n",
              "      <td>0</td>\n",
              "      <td>1</td>\n",
              "      <td>0</td>\n",
              "      <td>0</td>\n",
              "      <td>0</td>\n",
              "      <td>...</td>\n",
              "      <td>0</td>\n",
              "      <td>0</td>\n",
              "      <td>0</td>\n",
              "      <td>0</td>\n",
              "      <td>0</td>\n",
              "      <td>0</td>\n",
              "      <td>0</td>\n",
              "      <td>0</td>\n",
              "      <td>0</td>\n",
              "      <td>0</td>\n",
              "    </tr>\n",
              "    <tr>\n",
              "      <th>1731</th>\n",
              "      <td>1997.0</td>\n",
              "      <td>1</td>\n",
              "      <td>1</td>\n",
              "      <td>0</td>\n",
              "      <td>0</td>\n",
              "      <td>0</td>\n",
              "      <td>0</td>\n",
              "      <td>0</td>\n",
              "      <td>0</td>\n",
              "      <td>0</td>\n",
              "      <td>...</td>\n",
              "      <td>0</td>\n",
              "      <td>0</td>\n",
              "      <td>0</td>\n",
              "      <td>0</td>\n",
              "      <td>0</td>\n",
              "      <td>0</td>\n",
              "      <td>0</td>\n",
              "      <td>0</td>\n",
              "      <td>0</td>\n",
              "      <td>0</td>\n",
              "    </tr>\n",
              "  </tbody>\n",
              "</table>\n",
              "<p>5 rows × 31 columns</p>\n",
              "</div>\n",
              "      <button class=\"colab-df-convert\" onclick=\"convertToInteractive('df-0b72741c-b017-4da9-9e88-bc084d410f7c')\"\n",
              "              title=\"Convert this dataframe to an interactive table.\"\n",
              "              style=\"display:none;\">\n",
              "        \n",
              "  <svg xmlns=\"http://www.w3.org/2000/svg\" height=\"24px\"viewBox=\"0 0 24 24\"\n",
              "       width=\"24px\">\n",
              "    <path d=\"M0 0h24v24H0V0z\" fill=\"none\"/>\n",
              "    <path d=\"M18.56 5.44l.94 2.06.94-2.06 2.06-.94-2.06-.94-.94-2.06-.94 2.06-2.06.94zm-11 1L8.5 8.5l.94-2.06 2.06-.94-2.06-.94L8.5 2.5l-.94 2.06-2.06.94zm10 10l.94 2.06.94-2.06 2.06-.94-2.06-.94-.94-2.06-.94 2.06-2.06.94z\"/><path d=\"M17.41 7.96l-1.37-1.37c-.4-.4-.92-.59-1.43-.59-.52 0-1.04.2-1.43.59L10.3 9.45l-7.72 7.72c-.78.78-.78 2.05 0 2.83L4 21.41c.39.39.9.59 1.41.59.51 0 1.02-.2 1.41-.59l7.78-7.78 2.81-2.81c.8-.78.8-2.07 0-2.86zM5.41 20L4 18.59l7.72-7.72 1.47 1.35L5.41 20z\"/>\n",
              "  </svg>\n",
              "      </button>\n",
              "      \n",
              "  <style>\n",
              "    .colab-df-container {\n",
              "      display:flex;\n",
              "      flex-wrap:wrap;\n",
              "      gap: 12px;\n",
              "    }\n",
              "\n",
              "    .colab-df-convert {\n",
              "      background-color: #E8F0FE;\n",
              "      border: none;\n",
              "      border-radius: 50%;\n",
              "      cursor: pointer;\n",
              "      display: none;\n",
              "      fill: #1967D2;\n",
              "      height: 32px;\n",
              "      padding: 0 0 0 0;\n",
              "      width: 32px;\n",
              "    }\n",
              "\n",
              "    .colab-df-convert:hover {\n",
              "      background-color: #E2EBFA;\n",
              "      box-shadow: 0px 1px 2px rgba(60, 64, 67, 0.3), 0px 1px 3px 1px rgba(60, 64, 67, 0.15);\n",
              "      fill: #174EA6;\n",
              "    }\n",
              "\n",
              "    [theme=dark] .colab-df-convert {\n",
              "      background-color: #3B4455;\n",
              "      fill: #D2E3FC;\n",
              "    }\n",
              "\n",
              "    [theme=dark] .colab-df-convert:hover {\n",
              "      background-color: #434B5C;\n",
              "      box-shadow: 0px 1px 3px 1px rgba(0, 0, 0, 0.15);\n",
              "      filter: drop-shadow(0px 1px 2px rgba(0, 0, 0, 0.3));\n",
              "      fill: #FFFFFF;\n",
              "    }\n",
              "  </style>\n",
              "\n",
              "      <script>\n",
              "        const buttonEl =\n",
              "          document.querySelector('#df-0b72741c-b017-4da9-9e88-bc084d410f7c button.colab-df-convert');\n",
              "        buttonEl.style.display =\n",
              "          google.colab.kernel.accessAllowed ? 'block' : 'none';\n",
              "\n",
              "        async function convertToInteractive(key) {\n",
              "          const element = document.querySelector('#df-0b72741c-b017-4da9-9e88-bc084d410f7c');\n",
              "          const dataTable =\n",
              "            await google.colab.kernel.invokeFunction('convertToInteractive',\n",
              "                                                     [key], {});\n",
              "          if (!dataTable) return;\n",
              "\n",
              "          const docLinkHtml = 'Like what you see? Visit the ' +\n",
              "            '<a target=\"_blank\" href=https://colab.research.google.com/notebooks/data_table.ipynb>data table notebook</a>'\n",
              "            + ' to learn more about interactive tables.';\n",
              "          element.innerHTML = '';\n",
              "          dataTable['output_type'] = 'display_data';\n",
              "          await google.colab.output.renderOutput(dataTable, element);\n",
              "          const docLink = document.createElement('div');\n",
              "          docLink.innerHTML = docLinkHtml;\n",
              "          element.appendChild(docLink);\n",
              "        }\n",
              "      </script>\n",
              "    </div>\n",
              "  </div>\n",
              "  "
            ]
          },
          "metadata": {},
          "execution_count": 33
        }
      ]
    },
    {
      "cell_type": "markdown",
      "metadata": {
        "id": "7SfueFgsNdNt"
      },
      "source": [
        "# 3. Research\n",
        "\n",
        "Put your code and your experiments here.\n",
        "\n",
        "For full credit, your experiments should include the following models:\n",
        "- __k Nearest Neighbors__\n",
        "- __weighted k Nearest Neighbors__\n",
        "- __decision tree__\n",
        "- __random forest__ \n",
        "\n",
        "You need to demonstrate the performance of these models on both __normalized__ and __non-normalized__ data. \n",
        "\n",
        "For each of the above models, you need to include a __graph of at least 1 tuned parameter__. \n"
      ]
    },
    {
      "cell_type": "code",
      "source": [
        "# code goes here... don't forget to include graphs. Professor Moore loves graphs.\n",
        "from sklearn import neighbors #importing kNN\n",
        "from sklearn import tree #Importing Decision Trees\n",
        "from sklearn import ensemble #Importing Random Forests\n",
        "from sklearn import metrics #importing r2_score\n",
        "import matplotlib.pyplot as plt #importing plots\n",
        "\n",
        "#kNN\n",
        "#Non-normalized\n",
        "kNN = neighbors.KNeighborsRegressor()\n",
        "kNN.fit(train_data, train_sln)\n",
        "preds = kNN.predict(test_data)\n",
        "print('kNN r2 score:', metrics.r2_score(test_sln, preds))\n",
        "\n",
        "#normalized kNN\n",
        "kNN = neighbors.KNeighborsRegressor()\n",
        "kNN.fit(train_data_normalized, train_sln)\n",
        "preds = kNN.predict(test_data_normalized)\n",
        "print('Normalized kNN r2 score:', metrics.r2_score(test_sln, preds))\n",
        "\n",
        "print()\n",
        "\n",
        "#Weighted kNN\n",
        "w_kNN = neighbors.KNeighborsRegressor(weights = 'distance')\n",
        "w_kNN.fit(train_data, train_sln)\n",
        "preds = w_kNN.predict(test_data)\n",
        "print('weighted kNN r2 score:', metrics.r2_score(test_sln, preds))\n",
        "\n",
        "#normalized weight kNN\n",
        "w_kNN = neighbors.KNeighborsRegressor(weights = 'distance')\n",
        "w_kNN.fit(train_data_normalized, train_sln)\n",
        "preds = w_kNN.predict(test_data_normalized)\n",
        "print('Normalized weighted kNN r2 score:', metrics.r2_score(test_sln, preds))\n",
        "\n",
        "print()\n",
        "\n",
        "#Decision Tree\n",
        "dt = tree.DecisionTreeRegressor()\n",
        "dt.fit(train_data, train_sln)\n",
        "preds = dt.predict(test_data)\n",
        "print('Decision Tree r2 score:', metrics.r2_score(test_sln, preds))\n",
        "\n",
        "#normalized Decision Tree\n",
        "dt = tree.DecisionTreeRegressor()\n",
        "dt.fit(train_data_normalized, train_sln)\n",
        "preds = dt.predict(test_data_normalized)\n",
        "print('Normalized Decision Tree r2 score:', metrics.r2_score(test_sln, preds))\n",
        "\n",
        "print()\n",
        "#Random Forest\n",
        "rf = ensemble.RandomForestRegressor()\n",
        "rf.fit(train_data, train_sln)\n",
        "preds = dt.predict(test_data)\n",
        "print('Random Forest r2 score:', metrics.r2_score(test_sln, preds))\n",
        "\n",
        "#normalized random forests\n",
        "rf = ensemble.RandomForestRegressor()\n",
        "rf.fit(train_data_normalized, train_sln)\n",
        "preds = dt.predict(test_data_normalized)\n",
        "print('Normalized Random Forest r2 score:', metrics.r2_score(test_sln, preds))\n",
        "\n",
        "def tune_number_of_trees(n_estimator_values):\n",
        "    rf_r2scores = []\n",
        "\n",
        "    for n in n_estimator_values:\n",
        "\n",
        "        curr_rf = ensemble.RandomForestRegressor(n_estimators=n, random_state=41)\n",
        "        curr_rf.fit(train_data,train_sln)\n",
        "        curr_predictions = curr_rf.predict(test_data)\n",
        "        curr_r2score = metrics.r2_score(test_sln, curr_predictions)\n",
        "        rf_r2scores.append(curr_r2score)\n",
        "\n",
        "\n",
        "    plt.suptitle('Random Forest r2 scores vs. number of trees',fontsize=18)\n",
        "    plt.xlabel('# trees')\n",
        "    plt.ylabel('r2 scores')\n",
        "    plt.plot(n_estimator_values,rf_r2scores,'ro-')\n",
        "    plt.axis([0,n_estimator_values[-1]+1,-1,1])\n",
        "\n",
        "    plt.show()\n",
        "    \n",
        "tune_number_of_trees(range(1,31))\n"
      ],
      "metadata": {
        "id": "Z7Wxh3O0KHvo",
        "colab": {
          "base_uri": "https://localhost:8080/",
          "height": 534
        },
        "outputId": "e837c5d5-dae9-4784-b9f9-f116645d741f"
      },
      "execution_count": 58,
      "outputs": [
        {
          "output_type": "stream",
          "name": "stdout",
          "text": [
            "kNN r2 score: -0.09447709872472632\n",
            "Normalized kNN r2 score: -0.028057548459274884\n",
            "\n",
            "weighted kNN r2 score: -0.2252035147606941\n",
            "Normalized weighted kNN r2 score: -0.19266185125596746\n",
            "\n",
            "Decision Tree r2 score: -0.26472409188391954\n",
            "Normalized Decision Tree r2 score: -0.25890592181109384\n",
            "\n"
          ]
        },
        {
          "output_type": "stream",
          "name": "stderr",
          "text": [
            "/usr/local/lib/python3.9/dist-packages/sklearn/base.py:432: UserWarning: X has feature names, but DecisionTreeRegressor was fitted without feature names\n",
            "  warnings.warn(\n"
          ]
        },
        {
          "output_type": "stream",
          "name": "stdout",
          "text": [
            "Random Forest r2 score: -1.979490773801214\n",
            "Normalized Random Forest r2 score: -0.25890592181109384\n"
          ]
        },
        {
          "output_type": "display_data",
          "data": {
            "text/plain": [
              "<Figure size 432x288 with 1 Axes>"
            ],
            "image/png": "[encoded data removed]"
          },
          "metadata": {
            "needs_background": "light"
          }
        }
      ]
    },
    {
      "cell_type": "markdown",
      "source": [
        "#4. Analysis\n",
        "\n",
        "What did you discover? What insights/recommendations do you have? What did you find that was interesting? Which model was your best model, which models didn't work well? Why do you think this is? In general, I want a discussion of your experiment, the results, and what they mean.\n",
        "\n",
        "This chart might help organize your results:\n",
        "\n",
        "| **Model**     | **Non-Normalized** | **Normalized** | **Parameter Tuned** |\n",
        "|---------------|--------------------|----------------|---------------------|\n",
        "| kNN           |           -.094         |        -.028        |                     |\n",
        "| w-kNN         |           -.225         |        -.193        |                     |\n",
        "| decision tree |            -.272        |       -.258         |                     |\n",
        "| random forest |           -1.9?        |         -.258       |           x          |"
      ],
      "metadata": {
        "id": "3n4WI2CiTbSC"
      }
    },
    {
      "cell_type": "markdown",
      "source": [
        "*your answer here*"
      ],
      "metadata": {
        "id": "6-hRqIl9KL9L"
      }
    },
    {
      "cell_type": "markdown",
      "source": [
        "# 5. Bumps in the Road\n",
        "What challenges did you encounter? How did you overcome these challenges?"
      ],
      "metadata": {
        "id": "sQYL8y5UKO9G"
      }
    },
    {
      "cell_type": "markdown",
      "source": [
        "*your answer here*"
      ],
      "metadata": {
        "id": "4XPFALubKQPZ"
      }
    }
  ]
}